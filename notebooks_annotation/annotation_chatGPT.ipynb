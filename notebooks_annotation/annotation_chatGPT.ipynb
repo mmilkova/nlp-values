{
 "cells": [
  {
   "cell_type": "code",
   "execution_count": null,
   "id": "875c9cde",
   "metadata": {},
   "outputs": [],
   "source": [
    "import openai\n",
    "openai.api_key = '###'"
   ]
  },
  {
   "cell_type": "code",
   "execution_count": 6,
   "id": "d5eb1de8",
   "metadata": {},
   "outputs": [],
   "source": [
    "import os\n",
    "# os.getcwd()\n",
    "os.chdir('/home/mmilkov2/projects/VK/!for_OSF/scripts_retrieving_preprocessing_annotating/')\n",
    "# os.getcwd()"
   ]
  },
  {
   "cell_type": "code",
   "execution_count": 14,
   "id": "1e37c423",
   "metadata": {},
   "outputs": [
    {
     "data": {
      "text/plain": [
       "'Перед Вами пост из социальной сети ВКонтакте. Ваша задача – определить, есть ли выражение ценности в посте.  Вы будете отвечать на вопрос: Отражает ли пост важность какого-либо объекта,  явления или процесса?  Выберите одну из четырех категрий: Да отражает; Нет, не отражает; Неясно; Спам. Ценности – это убеждение человека в важности какого-либо объекта, явления или качества. Выберите Да, отражает, если текст представляет собой: Важность романтических отношений, любви, верности, дружбы, преданности близким (в том числе, любовь к детям);  Важность равенства всех людей или сбережение природы;  Желание стабильности и порядка, следования правилам, важности безопасности, необходимости беречь свое здоровье;  Важность быть независимым, желание пробовать новые вещи, рисковать;  Важность достижения целей, получения заслуженных наград;  Важность просто наслаждения жизнью.  Пожалуйста, имейте ввиду, что в текстах могут встречаться и другие виды ценностей - учитывайте свое собственное понимание!  Также, имейте ввиду, что текст, отражающий ценность, может:  не говорить напрямую о той или иной ценности;  выражать отрицание ценности (такие тоже нужно помечать как Да, отражает).  Примеры тестов, отражающих ценности: \"Люди всегда критикуют. Не позволяйте им сломить себя. Достигнуть своей цели-лучшая форма мести\"  - пример неявного указания на важность достижения своих целей. \"Закон подлости – это единственный закон, который действует в нашей стране!\" - пример неявного указания на важность следования правилам. \"Это и правда один из самых лучших дней в нашей жизни! Спасибо тебе, моя родная\" - пример отражения ценности любви. \"Иногда себя необходимо побаловать #тортики #кафемороженка #жрем\" - пример отражения ценности удовольствий. Выберите: Нет, не отражает, если:  Текст не отражает важности какого-либо объекта или ценности. Например:  Дежурные поздравления, рецепты (кулинарные или другие), без личной оценки;  Эмоциональные высказывания, в которых нет указания на важность или ценность чего-либо  Примеры текстов, не отражающих ценности: \"Как трогательно! Я аж всплакнула!\" или  \"ай прелесть🤣\" - непонятен предмет высказывания. \"Спасибо всем за поздравления!\" или \"новый год 2015\" - дежурные благодарности и поздравления. Выберите Неясно, если: перед вами текст, который сложно понять из-за использования незнакомых имен, слов, мест, непонятного контекста.  Выберите Спам, если:  Тексты, написанные в рекламных целях, в том числе от лица организаций. Виды спама:  объявления о продаже товаров и услуг;  просьба подписаться на кого-то;  просьба кликнуть по ссылке;  и прочие рекламные посты, в том числе с завуалированной рекламой. Примеры спам текстов: \"открыта продажа на прямой перелет Пермь-Мин.Воды  226-57-06\" - явное объявление о продаже \"ЕСЛИ ХОЧЕШЬ ИДТИ ВПЕРЁД - НАДО УЧИТЬСЯ!!!! И делать это у энергичных, заряжающих только положительными эмоциями людей, которые безумно любят своё дело и готовы делиться своими знаниями и опытом... <…>  #депиляцияорел #учусьулучших \" - скрытая реклама В качестве ответа выберите одну из четырех категрий: Да, отражает; Нет, не отражает; Неясно; Спам.'"
      ]
     },
     "execution_count": 14,
     "metadata": {},
     "output_type": "execute_result"
    }
   ],
   "source": [
    "text_guidline_file='../instructions/Instruction_for_ChatGPT.txt'\n",
    "with open(text_guidline_file) as f:\n",
    "    text_lines = f.read().splitlines()\n",
    "text_instruction=' '. join(text_lines)\n",
    "text_instruction"
   ]
  },
  {
   "cell_type": "code",
   "execution_count": null,
   "id": "ffe63305",
   "metadata": {},
   "outputs": [],
   "source": [
    "post='Пост: '\n",
    "answer='Ответ: '\n",
    "prompt_len=num_tokens_from_messages(messages = [{\"role\": \"user\", \"content\": text_instruction+'\\n'+post+'\\n'+answer}])\n",
    "\n",
    "def AreThereValuesInThePost (instruction, text, prompt_len):\n",
    "     \n",
    "    #calculate length of the text. if > than max_length, then - cut\n",
    "    max_len=4097\n",
    "    text_len=num_tokens_from_messages(messages = [{\"role\": \"user\", \"content\": text}])\n",
    "\n",
    "    real_len=text_len+prompt_len+16\n",
    "    if real_len>max_len:\n",
    "        cutted_len=(real_len-max_len)*3\n",
    "        text=text[:-cutted_len]\n",
    "    \n",
    "    post='Пост: '\n",
    "    answer='Ответ: '\n",
    "    \n",
    "    prompt=text_instruction+'\\n'+post+text+'\\n'+answer\n",
    "    \n",
    "    messages = [{\"role\": \"user\", \"content\": prompt}]\n",
    "    \n",
    "    response = openai.ChatCompletion.create(\n",
    "                            model='gpt-3.5-turbo', \n",
    "                            messages=messages,\n",
    "                            max_tokens=16, \n",
    "                            stop='.',\n",
    "                            n=1,\n",
    "                            temperature=0,\n",
    "                        )\n",
    "\n",
    "    output = response['choices'][0]['message']['content'].strip()\n",
    "    return output"
   ]
  },
  {
   "cell_type": "markdown",
   "id": "1e1ea01b",
   "metadata": {},
   "source": [
    "# Load Training dataset"
   ]
  },
  {
   "cell_type": "code",
   "execution_count": 89,
   "id": "98f4205a",
   "metadata": {},
   "outputs": [
    {
     "name": "stdout",
     "output_type": "stream",
     "text": [
      "5035\n"
     ]
    },
    {
     "data": {
      "text/html": [
       "<div>\n",
       "<style scoped>\n",
       "    .dataframe tbody tr th:only-of-type {\n",
       "        vertical-align: middle;\n",
       "    }\n",
       "\n",
       "    .dataframe tbody tr th {\n",
       "        vertical-align: top;\n",
       "    }\n",
       "\n",
       "    .dataframe thead th {\n",
       "        text-align: right;\n",
       "    }\n",
       "</style>\n",
       "<table border=\"1\" class=\"dataframe\">\n",
       "  <thead>\n",
       "    <tr style=\"text-align: right;\">\n",
       "      <th></th>\n",
       "      <th>text</th>\n",
       "      <th>label_c1</th>\n",
       "      <th>label_c2</th>\n",
       "      <th>label_c3</th>\n",
       "      <th>label_crowd</th>\n",
       "      <th>percentage</th>\n",
       "    </tr>\n",
       "  </thead>\n",
       "  <tbody>\n",
       "    <tr>\n",
       "      <th>0</th>\n",
       "      <td>Думаете, что умеете пользоваться фотошопом?...</td>\n",
       "      <td>3.0</td>\n",
       "      <td>0.0</td>\n",
       "      <td>0.0</td>\n",
       "      <td>0.0</td>\n",
       "      <td>67.0</td>\n",
       "    </tr>\n",
       "    <tr>\n",
       "      <th>1</th>\n",
       "      <td>...Самое страшное - это когда ты стоишь под х...</td>\n",
       "      <td>1.0</td>\n",
       "      <td>1.0</td>\n",
       "      <td>1.0</td>\n",
       "      <td>1.0</td>\n",
       "      <td>100.0</td>\n",
       "    </tr>\n",
       "    <tr>\n",
       "      <th>2</th>\n",
       "      <td>Друзья мои! Поддержим дочку моей подруги! Про...</td>\n",
       "      <td>0.0</td>\n",
       "      <td>1.0</td>\n",
       "      <td>0.0</td>\n",
       "      <td>0.0</td>\n",
       "      <td>67.0</td>\n",
       "    </tr>\n",
       "    <tr>\n",
       "      <th>3</th>\n",
       "      <td>Мой новый дневник, читаем, коментим :)</td>\n",
       "      <td>0.0</td>\n",
       "      <td>0.0</td>\n",
       "      <td>0.0</td>\n",
       "      <td>0.0</td>\n",
       "      <td>100.0</td>\n",
       "    </tr>\n",
       "    <tr>\n",
       "      <th>4</th>\n",
       "      <td>РУССКИЙ  КРЫМ - МИФ для быдла! (о чем молчат ...</td>\n",
       "      <td>0.0</td>\n",
       "      <td>0.0</td>\n",
       "      <td>3.0</td>\n",
       "      <td>0.0</td>\n",
       "      <td>67.0</td>\n",
       "    </tr>\n",
       "  </tbody>\n",
       "</table>\n",
       "</div>"
      ],
      "text/plain": [
       "                                                text  label_c1  label_c2  \\\n",
       "0     Думаете, что умеете пользоваться фотошопом?...       3.0       0.0   \n",
       "1   ...Самое страшное - это когда ты стоишь под х...       1.0       1.0   \n",
       "2   Друзья мои! Поддержим дочку моей подруги! Про...       0.0       1.0   \n",
       "3             Мой новый дневник, читаем, коментим :)       0.0       0.0   \n",
       "4   РУССКИЙ  КРЫМ - МИФ для быдла! (о чем молчат ...       0.0       0.0   \n",
       "\n",
       "   label_c3 label_crowd  percentage  \n",
       "0       0.0         0.0        67.0  \n",
       "1       1.0         1.0       100.0  \n",
       "2       0.0         0.0        67.0  \n",
       "3       0.0         0.0       100.0  \n",
       "4       3.0         0.0        67.0  "
      ]
     },
     "execution_count": 89,
     "metadata": {},
     "output_type": "execute_result"
    }
   ],
   "source": [
    "import pandas as pd\n",
    "\n",
    "labeling_folder='../data/'\n",
    "file_random=pd.read_csv(labeling_folder+'!toloka_random.csv', sep=\"|\", encoding ='utf-8')\n",
    "file_pre_selected=pd.read_csv(labeling_folder+'!toloka_pre_selected.csv', sep=\"|\", encoding ='utf-8')\n",
    "file_1post1id=pd.read_csv(labeling_folder+'!toloka_1post1id.csv', sep=\"|\", encoding ='utf-8')\n",
    "df=pd.concat([file_random, file_pre_selected, file_1post1id])\n",
    "df=df.rename(columns={'INPUT:headline':'text', 'label_1':'label_c1', 'label_2':'label_c2', 'label_3':'label_c3','result': 'label_crowd'})\n",
    "print (df.shape[0])\n",
    "df.head()\n"
   ]
  },
  {
   "cell_type": "markdown",
   "id": "80472718",
   "metadata": {},
   "source": [
    "script for annotating train dataset by ChatGPT. If need trial dataset, please, load text items from \n",
    "trial804_experts_crowd_gpt.csv"
   ]
  },
  {
   "cell_type": "code",
   "execution_count": null,
   "id": "6a9c38a7",
   "metadata": {},
   "outputs": [],
   "source": [
    "import time\n",
    "from tqdm.notebook import tqdm\n",
    "\n",
    "retries = 300\n",
    "\n",
    "for i in range (0,3):\n",
    "    col_name = 'label' + str(i+1)\n",
    "    df[col_name] = pd.Series(dtype='str')\n",
    "\n",
    "    it = 0        \n",
    "    for index, row in tqdm(df.iterrows()):\n",
    "        while retries > 0:\n",
    "            try:\n",
    "                label=AreThereValuesInThePost(text_instruction, row.text, prompt_len)\n",
    "                df_all1.at[index, col_name] = label\n",
    "                print (row.text[:50])\n",
    "                print (label)\n",
    "                print (\"\")\n",
    "                i+=1\n",
    "                break  # Exit the retry loop if the request is successful\n",
    "            except openai.error.OpenAIError as e:\n",
    "                print(f\"Error: {e}\")\n",
    "                retries -= 1\n",
    "                time.sleep(20)  # Wait for 20 seconds before retrying\n",
    "                    "
   ]
  },
  {
   "cell_type": "code",
   "execution_count": 30,
   "id": "d4f296ec",
   "metadata": {},
   "outputs": [],
   "source": [
    "# In case if ChatGPT return not only labels, but labels with text\n",
    "\n",
    "def Convert(df, cols, resulted_col_name):\n",
    "    \n",
    "    for col in cols:\n",
    "        df[col]=df[col].astype('str')\n",
    "        df[col] = df[col].str.split('(', 1).str[0]\n",
    "        df[col]=df[col].str.replace('Не отражает', 'Нет, не отражает')\n",
    "        df[col] = df[col].apply(lambda x: x.strip())\n",
    "        df[col]=df[col].str.replace('Да, отражает', '1')\n",
    "        df[col]=df[col].str.replace('Отражает ценность любви и преданности б', '1')\n",
    "        df[col]=df[col].str.replace('Отражает ценность романтических от', '1')\n",
    "        df[col]=df[col].str.replace('Нет, не отражает', '0')\n",
    "        df[col]=df[col].str.replace('Неясно', '2')\n",
    "        df[col]=df[col].str.replace('Спам', '3')\n",
    "        df[col]=df[col].astype(float).astype(int)\n",
    "    for i, row in df.iterrows():\n",
    "        row_list=row[cols].to_list()\n",
    "        common_value=LabelPercentage(row_list)\n",
    "        df.at[i, resulted_col_name]=common_value\n",
    "    return df\n"
   ]
  },
  {
   "cell_type": "code",
   "execution_count": 31,
   "id": "68b60837",
   "metadata": {},
   "outputs": [],
   "source": [
    "# Calculate the percentage of identical labels\n",
    "from collections import Counter\n",
    "def LabelPercentage(row_list):\n",
    "\n",
    "    c = Counter(row_list)\n",
    "    most_common=c.most_common(1)\n",
    "    common_value=most_common[0][0]\n",
    "    perc=round((most_common[0][1]/len(row_list))*100, 0)\n",
    "    if perc==33.0:\n",
    "        perc=0\n",
    "        common_value='Nan'\n",
    "    return common_value"
   ]
  },
  {
   "cell_type": "code",
   "execution_count": 102,
   "id": "d9f93ef6",
   "metadata": {},
   "outputs": [],
   "source": [
    "df=Convert(df, ['label1', 'label2', 'label3'], 'gpt_result')"
   ]
  },
  {
   "cell_type": "markdown",
   "id": "1af45bd2",
   "metadata": {},
   "source": [
    "# Count number of tokens for ChatGPT"
   ]
  },
  {
   "cell_type": "code",
   "execution_count": null,
   "id": "282c595c",
   "metadata": {},
   "outputs": [],
   "source": [
    "import tiktoken\n",
    "\n",
    "\n",
    "def num_tokens_from_messages(messages, model=\"gpt-3.5-turbo\"):\n",
    "    \"\"\"Returns the number of tokens used by a list of messages.\"\"\"\n",
    "    try:\n",
    "        encoding = tiktoken.encoding_for_model(model)\n",
    "    except KeyError:\n",
    "        print(\"Warning: model not found. Using cl100k_base encoding.\")\n",
    "        encoding = tiktoken.get_encoding(\"cl100k_base\")\n",
    "    if model == \"gpt-3.5-turbo\":\n",
    "        print(\"Warning: gpt-3.5-turbo may change over time. Returning num tokens assuming gpt-3.5-turbo-0301.\")\n",
    "        return num_tokens_from_messages(messages, model=\"gpt-3.5-turbo-0301\")\n",
    "    elif model == \"gpt-4\":\n",
    "        print(\"Warning: gpt-4 may change over time. Returning num tokens assuming gpt-4-0314.\")\n",
    "        return num_tokens_from_messages(messages, model=\"gpt-4-0314\")\n",
    "    elif model == \"gpt-3.5-turbo-0301\":\n",
    "        tokens_per_message = 4  # every message follows <|start|>{role/name}\\n{content}<|end|>\\n\n",
    "        tokens_per_name = -1  # if there's a name, the role is omitted\n",
    "    elif model == \"gpt-4-0314\":\n",
    "        tokens_per_message = 3\n",
    "        tokens_per_name = 1\n",
    "    else:\n",
    "        raise NotImplementedError(f\"\"\"num_tokens_from_messages() is not implemented for model {model}. See https://github.com/openai/openai-python/blob/main/chatml.md for information on how messages are converted to tokens.\"\"\")\n",
    "    num_tokens = 0\n",
    "    for message in messages:\n",
    "        num_tokens += tokens_per_message\n",
    "        for key, value in message.items():\n",
    "            num_tokens += len(encoding.encode(value))\n",
    "            if key == \"name\":\n",
    "                num_tokens += tokens_per_name\n",
    "    num_tokens += 3  # every reply is primed with <|start|>assistant<|message|>\n",
    "    return num_tokens"
   ]
  },
  {
   "cell_type": "code",
   "execution_count": null,
   "id": "e75df9a8",
   "metadata": {},
   "outputs": [],
   "source": [
    "messages = [{\"role\": \"user\", \"content\": text}]\n",
    "num_tokens_from_messages(messages)"
   ]
  }
 ],
 "metadata": {
  "kernelspec": {
   "display_name": "Python 3 (ipykernel)",
   "language": "python",
   "name": "python3"
  },
  "language_info": {
   "codemirror_mode": {
    "name": "ipython",
    "version": 3
   },
   "file_extension": ".py",
   "mimetype": "text/x-python",
   "name": "python",
   "nbconvert_exporter": "python",
   "pygments_lexer": "ipython3",
   "version": "3.8.13"
  }
 },
 "nbformat": 4,
 "nbformat_minor": 5
}
