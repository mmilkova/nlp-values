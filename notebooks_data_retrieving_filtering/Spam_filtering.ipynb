{
 "cells": [
  {
   "cell_type": "markdown",
   "metadata": {},
   "source": [
    "# Filtering based on simple rules"
   ]
  },
  {
   "cell_type": "code",
   "execution_count": 18,
   "metadata": {},
   "outputs": [
    {
     "name": "stdout",
     "output_type": "stream",
     "text": [
      "text posts with at least one bigram  129437\n"
     ]
    },
    {
     "data": {
      "text/html": [
       "<div>\n",
       "<style scoped>\n",
       "    .dataframe tbody tr th:only-of-type {\n",
       "        vertical-align: middle;\n",
       "    }\n",
       "\n",
       "    .dataframe tbody tr th {\n",
       "        vertical-align: top;\n",
       "    }\n",
       "\n",
       "    .dataframe thead th {\n",
       "        text-align: right;\n",
       "    }\n",
       "</style>\n",
       "<table border=\"1\" class=\"dataframe\">\n",
       "  <thead>\n",
       "    <tr style=\"text-align: right;\">\n",
       "      <th></th>\n",
       "      <th>date</th>\n",
       "      <th>text</th>\n",
       "      <th>link_title</th>\n",
       "      <th>link_description</th>\n",
       "      <th>unigrams</th>\n",
       "      <th>bigrams</th>\n",
       "    </tr>\n",
       "  </thead>\n",
       "  <tbody>\n",
       "    <tr>\n",
       "      <th>0</th>\n",
       "      <td>2014-11-20</td>\n",
       "      <td>Бузык барин булдирген</td>\n",
       "      <td>NaN</td>\n",
       "      <td>NaN</td>\n",
       "      <td>[бузык, барин, булдирген]</td>\n",
       "      <td>[бузык_барин, барин_булдирген]</td>\n",
       "    </tr>\n",
       "    <tr>\n",
       "      <th>1</th>\n",
       "      <td>2014-10-28</td>\n",
       "      <td>Алтын куз</td>\n",
       "      <td>NaN</td>\n",
       "      <td>NaN</td>\n",
       "      <td>[алтын, куз]</td>\n",
       "      <td>[алтын_куз]</td>\n",
       "    </tr>\n",
       "    <tr>\n",
       "      <th>2</th>\n",
       "      <td>2014-07-14</td>\n",
       "      <td>Биз бакиттымыз</td>\n",
       "      <td>NaN</td>\n",
       "      <td>NaN</td>\n",
       "      <td>[биз, бакиттымыза]</td>\n",
       "      <td>[биз_бакиттымыза]</td>\n",
       "    </tr>\n",
       "    <tr>\n",
       "      <th>3</th>\n",
       "      <td>2016-09-05</td>\n",
       "      <td>Молодцы!!!Красиво!!!</td>\n",
       "      <td>NaN</td>\n",
       "      <td>NaN</td>\n",
       "      <td>[молодец, красиво]</td>\n",
       "      <td>[молодец_красиво]</td>\n",
       "    </tr>\n",
       "    <tr>\n",
       "      <th>4</th>\n",
       "      <td>2019-07-03</td>\n",
       "      <td>Самый Красавец Кот</td>\n",
       "      <td>NaN</td>\n",
       "      <td>NaN</td>\n",
       "      <td>[самый, красавец, кот]</td>\n",
       "      <td>[самый_красавец, красавец_кот]</td>\n",
       "    </tr>\n",
       "  </tbody>\n",
       "</table>\n",
       "</div>"
      ],
      "text/plain": [
       "         date                   text link_title link_description  \\\n",
       "0  2014-11-20  Бузык барин булдирген        NaN              NaN   \n",
       "1  2014-10-28              Алтын куз        NaN              NaN   \n",
       "2  2014-07-14         Биз бакиттымыз        NaN              NaN   \n",
       "3  2016-09-05   Молодцы!!!Красиво!!!        NaN              NaN   \n",
       "4  2019-07-03     Самый Красавец Кот        NaN              NaN   \n",
       "\n",
       "                    unigrams                         bigrams  \n",
       "0  [бузык, барин, булдирген]  [бузык_барин, барин_булдирген]  \n",
       "1               [алтын, куз]                     [алтын_куз]  \n",
       "2         [биз, бакиттымыза]               [биз_бакиттымыза]  \n",
       "3         [молодец, красиво]               [молодец_красиво]  \n",
       "4     [самый, красавец, кот]  [самый_красавец, красавец_кот]  "
      ]
     },
     "execution_count": 18,
     "metadata": {},
     "output_type": "execute_result"
    }
   ],
   "source": [
    "import pandas as pd\n",
    "from ast import literal_eval\n",
    "# Загружаем предобработанный файл:\n",
    "folder='../data/'\n",
    "file_name='text_preprocessed.csv'\n",
    "df=pd.read_csv(folder+file_name, sep=\"|\", encoding ='utf-8', index_col='Unnamed: 0')\n",
    "df.unigrams = df.unigrams.apply(literal_eval)\n",
    "df.bigrams = df.bigrams.apply(literal_eval)\n",
    "print ('text posts with at least one bigram ', df.shape[0])\n",
    "df.head()"
   ]
  },
  {
   "cell_type": "code",
   "execution_count": 19,
   "metadata": {},
   "outputs": [],
   "source": [
    "df['Spam-index']=False"
   ]
  },
  {
   "cell_type": "code",
   "execution_count": 20,
   "metadata": {},
   "outputs": [],
   "source": [
    "# Load dictionary to filter posts with these bigrams:\n",
    "filter_folder='../dictionaries&instructions/'\n",
    "filter_words_file='filter-words.txt'\n",
    "with open(filter_folder+filter_words_file) as f:\n",
    "    filter_list = f.read().splitlines()"
   ]
  },
  {
   "cell_type": "code",
   "execution_count": 21,
   "metadata": {},
   "outputs": [],
   "source": [
    "# if bigram is in filter_list - set True value in boolean_list \n",
    "def FilterByBigrams(bigrams_lists, boolean_list, filter_list):\n",
    "    for i, (bigrams, boolean) in enumerate(zip(bigrams_lists, boolean_list)):\n",
    "        if boolean==False:\n",
    "            if any(x in bigrams for x in filter_list):\n",
    "                boolean_list[i]=True\n",
    "    return boolean_list     "
   ]
  },
  {
   "cell_type": "code",
   "execution_count": 23,
   "metadata": {},
   "outputs": [
    {
     "name": "stdout",
     "output_type": "stream",
     "text": [
      "Filtered spam-bigrams:  23306\n"
     ]
    }
   ],
   "source": [
    "bigrams_lists=df.bigrams.values.tolist()\n",
    "boolean_list_=df['Spam-index'].values.tolist()\n",
    "Boolean_list=FilterByBigrams(bigrams_lists, boolean_list_, filter_list)\n",
    "df['Spam-index']=Boolean_list\n",
    "print ('Filtered spam-bigrams: ', Boolean_list.count(True))\n"
   ]
  },
  {
   "cell_type": "code",
   "execution_count": 24,
   "metadata": {},
   "outputs": [],
   "source": [
    "# Load dictionary to filter posts with these bigrams if the post contains a link:\n",
    "filter_words_file='filter-words_if_linked.txt'\n",
    "with open(filter_folder+filter_words_file) as f:\n",
    "    filter_list2 = f.read().splitlines()\n",
    "    "
   ]
  },
  {
   "cell_type": "code",
   "execution_count": 25,
   "metadata": {},
   "outputs": [],
   "source": [
    "def FilterByBigrams_links(bigrams_lists, boolean_list, filter_list, links_list):\n",
    "    for i, (bigrams, boolean, links) in enumerate(zip(bigrams_lists, boolean_list, links_list)):\n",
    "        if boolean==False:\n",
    "            if any(x in bigrams for x in filter_list) & (links!=\"\"):\n",
    "                boolean_list[i]=True\n",
    "    return boolean_list  "
   ]
  },
  {
   "cell_type": "code",
   "execution_count": 27,
   "metadata": {},
   "outputs": [
    {
     "name": "stdout",
     "output_type": "stream",
     "text": [
      "Filtered together with spam-posts that contained links 24606\n"
     ]
    }
   ],
   "source": [
    "import numpy as np\n",
    "\n",
    "df[\"link_title\"] = df[\"link_title\"].replace(np.nan, '')\n",
    "boolean_list_=df['Spam-index'].values.tolist()\n",
    "links_list=df['link_title'].values.tolist()\n",
    "Boolean_list=FilterByBigrams_links(bigrams_lists, boolean_list_, filter_list2, links_list)\n",
    "df['Spam-index']=Boolean_list\n",
    "print (\"Filtered together with spam-posts that contained links\", Boolean_list.count(True))"
   ]
  },
  {
   "cell_type": "code",
   "execution_count": 28,
   "metadata": {},
   "outputs": [],
   "source": [
    "def FilterVKLinks(text_list, boolean_list):\n",
    "    str1='vkontakte.ru'\n",
    "    str2='vk.com'\n",
    "    for i, (text, boolean) in enumerate(zip(text_list, boolean_list)):\n",
    "        if boolean==False:\n",
    "            if (str1 in text) | (str2 in text):\n",
    "                boolean_list[i]=True\n",
    "    return boolean_list  "
   ]
  },
  {
   "cell_type": "code",
   "execution_count": 30,
   "metadata": {},
   "outputs": [
    {
     "name": "stdout",
     "output_type": "stream",
     "text": [
      "Filtered together, with spam-posts with links to vk, vkontakte  35562\n"
     ]
    }
   ],
   "source": [
    "text_list=df_with_bigrams.text.values.tolist()\n",
    "boolean_list_=df['Spam-index'].values.tolist()\n",
    "Boolean_list=FilterVKLinks(text_list, boolean_list_)\n",
    "df['Spam-index']=Boolean_list\n",
    "print ('Filtered together, with spam-posts with links to vk, vkontakte ', Boolean_list.count(True))\n"
   ]
  },
  {
   "cell_type": "code",
   "execution_count": 33,
   "metadata": {},
   "outputs": [
    {
     "name": "stdout",
     "output_type": "stream",
     "text": [
      "number of posts that duplicates more (or equal to) than 5: 306\n"
     ]
    }
   ],
   "source": [
    "# Find duplicates in not-spam posts. If the post duplicates more or equal to 5 times, then - spam:\n",
    "df_=df.loc[df['Spam-index']==False].text.value_counts().rename_axis('spam_text').to_frame('counts')\n",
    "df_spam=df_.loc[df_.counts>=5]\n",
    "df_spam.reset_index(level=0, inplace=True)\n",
    "print (\"number of posts that duplicates more (or equal to) than 5:\", df_spam.shape[0])\n",
    "# !!! Save, but don't save again, because this file has been manually edited !!!!!\n",
    "# df_spam.to_csv(filter_folder+'spam-posts.csv', sep='|', encoding='utf-8')\n"
   ]
  },
  {
   "cell_type": "code",
   "execution_count": 36,
   "metadata": {},
   "outputs": [
    {
     "data": {
      "text/plain": [
       "296"
      ]
     },
     "execution_count": 36,
     "metadata": {},
     "output_type": "execute_result"
    }
   ],
   "source": [
    "# Review the file manually and delete posts that are not spam\n",
    "# Upload file after manual removing of several non-spam posts\n",
    "file_spam='spam-posts.csv'\n",
    "df_spam=pd.read_csv(filter_folder+file_spam, sep=\"|\", encoding ='utf-8', index_col=False)\n",
    "df_spam.shape[0]"
   ]
  },
  {
   "cell_type": "code",
   "execution_count": 38,
   "metadata": {},
   "outputs": [
    {
     "name": "stdout",
     "output_type": "stream",
     "text": [
      "! Total number of spam-posts: 38914\n"
     ]
    }
   ],
   "source": [
    "# Takes as input a list - the entire column of texts and the entire column of spam messages.\n",
    "# 1 - if spam, 0 - not\n",
    "def FilterSpam(text_list, spam_list, boolean_list):\n",
    "    for i, (text, boolean) in enumerate(zip(text_list, boolean_list)):\n",
    "        if boolean==False:\n",
    "            if text in spam_list:\n",
    "                boolean_list[i]=True\n",
    "    return boolean_list   \n",
    "\n",
    "text_list=df.text.values.tolist()\n",
    "spam_list=df_spam.spam_text.values.tolist()\n",
    "boolean_list=df['Spam-index'].values.tolist()\n",
    "\n",
    "boolean_list=FilterSpam(text_list,spam_list, boolean_list)\n",
    "df['Spam-index']=boolean_list\n",
    "\n",
    "print (\"! Total number of spam-posts:\", df.loc[df['Spam-index']==1].shape[0])"
   ]
  },
  {
   "cell_type": "code",
   "execution_count": 39,
   "metadata": {},
   "outputs": [],
   "source": [
    "# Convert values from boolean True|False to integer 1/0, save:\n",
    "df[\"Spam-index\"] = df[\"Spam-index\"].astype(int)\n",
    "\n",
    "folder='../data/'\n",
    "df.to_csv(folder+'text_preprocessed_Spamlabeled.csv', sep='|', encoding='utf-8')"
   ]
  },
  {
   "cell_type": "code",
   "execution_count": null,
   "metadata": {},
   "outputs": [],
   "source": []
  }
 ],
 "metadata": {
  "kernelspec": {
   "display_name": "Python 3 (ipykernel)",
   "language": "python",
   "name": "python3"
  },
  "language_info": {
   "codemirror_mode": {
    "name": "ipython",
    "version": 3
   },
   "file_extension": ".py",
   "mimetype": "text/x-python",
   "name": "python",
   "nbconvert_exporter": "python",
   "pygments_lexer": "ipython3",
   "version": "3.8.13"
  }
 },
 "nbformat": 4,
 "nbformat_minor": 4
}
