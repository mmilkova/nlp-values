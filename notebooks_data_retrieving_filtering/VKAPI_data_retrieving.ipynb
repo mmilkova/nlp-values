{
 "cells": [
  {
   "cell_type": "markdown",
   "metadata": {},
   "source": [
    "# Scipt for using VK API to retrieve the data"
   ]
  },
  {
   "cell_type": "code",
   "execution_count": 115,
   "metadata": {},
   "outputs": [],
   "source": [
    "# users ids were previously generated:\n",
    "# import random\n",
    "# vk_users_n=710000000\n",
    "# id_list=[random.randrange(1, vk_users_n+1, 1) for i in range(30000)]"
   ]
  },
  {
   "cell_type": "code",
   "execution_count": 1,
   "metadata": {},
   "outputs": [
    {
     "name": "stdout",
     "output_type": "stream",
     "text": [
      "30000\n"
     ]
    }
   ],
   "source": [
    "# open file  файл with ids\n",
    "with open(\"../data/id_generated.txt\", mode=\"r\") as file:\n",
    "    \n",
    "    f = file.read()\n",
    "    id_list = [int(i) for i in f.split(\",\")]\n",
    "    print (len(id_list))\n"
   ]
  },
  {
   "cell_type": "code",
   "execution_count": 35,
   "metadata": {},
   "outputs": [],
   "source": [
    "# VK Authorization\n",
    "# note that there is a day limit for requests with vk api. 5000 requests per day.\n",
    "import vk\n",
    "import json\n",
    "import requests\n",
    "\n",
    "access_token = \"#\"\n",
    "ac2 = \"##\"\n",
    "ac_n =\"###\"\"\n",
    "ac_m=\"####\"\n",
    "\n",
    "v='5.92'"
   ]
  },
  {
   "cell_type": "code",
   "execution_count": 117,
   "metadata": {},
   "outputs": [
    {
     "data": {
      "application/vnd.jupyter.widget-view+json": {
       "model_id": "df9f8aaebc4a489181ed045328b35ca7",
       "version_major": 2,
       "version_minor": 0
      },
      "text/plain": [
       "  0%|          | 0/80000 [00:00<?, ?it/s]"
      ]
     },
     "metadata": {},
     "output_type": "display_data"
    },
    {
     "data": {
      "application/vnd.jupyter.widget-view+json": {
       "model_id": "8859d7dd42a64553ba3a26a52409020b",
       "version_major": 2,
       "version_minor": 0
      },
      "text/plain": [
       "0it [00:00, ?it/s]"
      ]
     },
     "metadata": {},
     "output_type": "display_data"
    }
   ],
   "source": [
    "#====  Get posts by id  =======\n",
    "\n",
    "day_limit=5000\n",
    "res_folder='../results_from_rnd_walls2/'\n",
    "\n",
    "import numpy as np\n",
    "import pandas as pd\n",
    "import time\n",
    "from datetime import datetime\n",
    "\n",
    "post_df=pd.DataFrame(columns=['user_id', 'post_id', 'date', 'text', 'link_title', 'link_description', 'repost_text', 'views', 'likes', 'comments', 'reposts'])\n",
    "\n",
    "# part_number=int(len(id_list)/day_limit) # calculate the number of parts to devide, because of day limit \n",
    "# for i in range(0,part_number+1):\n",
    "#     print ('part_number '+str(i))    \n",
    "#     step=i*day_limit\n",
    "#     id_list_=id_list[step:step+day_limit] # partial id list - because of day_limit (5000) per day\n",
    "\n",
    "# progress bar tqdm\n",
    "from tqdm.notebook import tqdm\n",
    "pbar = tqdm(id_list_)\n",
    "pbar.set_description(\"Processing id_s\")\n",
    "\n",
    "pbar_concat = tqdm()\n",
    "pbar_concat.set_description(\"Last added for None\")\n",
    "\n",
    "requests_tick = datetime.now()\n",
    "td_hold = (1.05/3)\n",
    "\n",
    "for i, id_ in enumerate(pbar):\n",
    "        \n",
    "    offset=0\n",
    "    \n",
    "    while True:\n",
    "        \n",
    "        td = (datetime.now() - requests_tick).total_seconds()\n",
    "        if td < td_hold:\n",
    "            time.sleep(td_hold - td)\n",
    "        \n",
    "        requests_tick = datetime.now()        \n",
    "        try:\n",
    "            q = requests.get('https://api.vk.com/method/wall.get', params={\n",
    "                        'access_token':access_token,  # or ac2, ac_n, ac_m. you can combine multiple tokens to speed up the retrieving process\n",
    "                        'v':v,\n",
    "                        'owner_id':id_,\n",
    "                        'count':100,\n",
    "                        'offset':offset,\n",
    "                        'filter':'owner'\n",
    "                        }).json()['response']\n",
    "        except Exception:\n",
    "            break\n",
    "            \n",
    "        offset=offset+100        \n",
    "        \n",
    "        \n",
    "        if len(q['items']) == 0:\n",
    "            break\n",
    "        \n",
    "        for post in q['items']:\n",
    "                post_list=[]\n",
    "                post_list.append(id_)\n",
    "                post_list.append(post.get('id', -9999))\n",
    "                full_date=datetime.fromtimestamp(post['date'])\n",
    "                post_list.append(datetime.date(full_date))\n",
    "                text_=post['text'].replace(\"\\n\",\" \")\n",
    "                text=text_.replace(\"|\",\" \")\n",
    "                post_list.append(text)\n",
    "\n",
    "\n",
    "                get_record=False \n",
    "                if 'attachments' in post:\n",
    "                    for att in post['attachments']: # attachments type - may be foto, doc, video, link.We only need a link, but there can be several types in attachments, so we check if the link is found \n",
    "                        if (att['type']=='link'):\n",
    "                            post_list.append(att.get('link', {'title':'',}).get('title', ''))\n",
    "                            post_list.append(att.get('link', {'description':'',}).get('description', ''))\n",
    "                            get_record=True\n",
    "                if not get_record:\n",
    "                    post_list.append(\"\")\n",
    "                    post_list.append(\"\")\n",
    "                \n",
    "                \n",
    "                # If the repost is with a comment, then there are several elements in the history, with several texts, we take only the user's text (he is the first one)\n",
    "#                 ind=0                                 \n",
    "                if 'copy_history' in post:\n",
    "                    for att in post['copy_history']:\n",
    "                        if att.get('text', '')!=u\"Запись удалена\":\n",
    "                            post_list.append(att.get('text', '').replace(\"\\n\",\" \"))\n",
    "    #                         ind=ind+1\n",
    "                            break\n",
    "                else:\n",
    "                    post_list.append('')\n",
    "\n",
    "                #==== We check if all the elements of the list are empty (except for id_s, date). Can be empty, for example, if only a photo is added\n",
    "                k=0\n",
    "                for i in range(3, len(post_list)-3):\n",
    "                    if len(str(post_list[i]))>0:\n",
    "                        k=k+1\n",
    "                \n",
    "                if k>0:\n",
    "                #======Only if there is a text/repost of a post or story, we collect information about views/likes/reposts/ ================================================================\n",
    "\n",
    "                    post_list.append(post.get('views', {'count':'',}).get('count', ''))\n",
    "                    post_list.append(post.get('likes', {'count':'',}).get('count', ''))\n",
    "                    post_list.append(post.get('comments', {'count':'',}).get('count', ''))\n",
    "                    post_list.append(post.get('reposts', {'count':'',}).get('count', ''))\n",
    "\n",
    "\n",
    "                    post_df = pd.concat([post_df, pd.DataFrame(pd.Series(post_list, index=post_df.columns)).T], axis=0, ignore_index=True)\n",
    "                    pbar_concat.set_description(\"Last added for  %s\" % id_)\n",
    "                    pbar_concat.update()\n",
    "\n",
    "#save here the dataframe"
   ]
  },
  {
   "cell_type": "code",
   "execution_count": 1,
   "metadata": {},
   "outputs": [],
   "source": [
    "# save all parts in the folder\n",
    "# You need to look at how many ids from the id_list did not appear in the final table of results (because vk api often skips ids). We find those that were skiped, and retry\n"
   ]
  },
  {
   "cell_type": "code",
   "execution_count": null,
   "metadata": {},
   "outputs": [],
   "source": []
  }
 ],
 "metadata": {
  "kernelspec": {
   "display_name": "Python 3 (ipykernel)",
   "language": "python",
   "name": "python3"
  },
  "language_info": {
   "codemirror_mode": {
    "name": "ipython",
    "version": 3
   },
   "file_extension": ".py",
   "mimetype": "text/x-python",
   "name": "python",
   "nbconvert_exporter": "python",
   "pygments_lexer": "ipython3",
   "version": "3.8.13"
  }
 },
 "nbformat": 4,
 "nbformat_minor": 4
}
