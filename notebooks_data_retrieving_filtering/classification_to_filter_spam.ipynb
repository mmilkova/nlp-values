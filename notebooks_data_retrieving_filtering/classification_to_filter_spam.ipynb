{
 "cells": [
  {
   "cell_type": "code",
   "execution_count": 33,
   "id": "e71a8615",
   "metadata": {},
   "outputs": [
    {
     "name": "stdout",
     "output_type": "stream",
     "text": [
      "129437\n"
     ]
    },
    {
     "data": {
      "text/html": [
       "<div>\n",
       "<style scoped>\n",
       "    .dataframe tbody tr th:only-of-type {\n",
       "        vertical-align: middle;\n",
       "    }\n",
       "\n",
       "    .dataframe tbody tr th {\n",
       "        vertical-align: top;\n",
       "    }\n",
       "\n",
       "    .dataframe thead th {\n",
       "        text-align: right;\n",
       "    }\n",
       "</style>\n",
       "<table border=\"1\" class=\"dataframe\">\n",
       "  <thead>\n",
       "    <tr style=\"text-align: right;\">\n",
       "      <th></th>\n",
       "      <th>date</th>\n",
       "      <th>text</th>\n",
       "      <th>link_title</th>\n",
       "      <th>link_description</th>\n",
       "      <th>unigrams</th>\n",
       "      <th>bigrams</th>\n",
       "      <th>Spam-index</th>\n",
       "    </tr>\n",
       "  </thead>\n",
       "  <tbody>\n",
       "    <tr>\n",
       "      <th>0</th>\n",
       "      <td>2014-11-20</td>\n",
       "      <td>Бузык барин булдирген</td>\n",
       "      <td>NaN</td>\n",
       "      <td>NaN</td>\n",
       "      <td>['бузык', 'барин', 'булдирген']</td>\n",
       "      <td>['бузык_барин', 'барин_булдирген']</td>\n",
       "      <td>0</td>\n",
       "    </tr>\n",
       "    <tr>\n",
       "      <th>1</th>\n",
       "      <td>2014-10-28</td>\n",
       "      <td>Алтын куз</td>\n",
       "      <td>NaN</td>\n",
       "      <td>NaN</td>\n",
       "      <td>['алтын', 'куз']</td>\n",
       "      <td>['алтын_куз']</td>\n",
       "      <td>0</td>\n",
       "    </tr>\n",
       "    <tr>\n",
       "      <th>2</th>\n",
       "      <td>2014-07-14</td>\n",
       "      <td>Биз бакиттымыз</td>\n",
       "      <td>NaN</td>\n",
       "      <td>NaN</td>\n",
       "      <td>['биз', 'бакиттымыза']</td>\n",
       "      <td>['биз_бакиттымыза']</td>\n",
       "      <td>0</td>\n",
       "    </tr>\n",
       "    <tr>\n",
       "      <th>3</th>\n",
       "      <td>2016-09-05</td>\n",
       "      <td>Молодцы!!!Красиво!!!</td>\n",
       "      <td>NaN</td>\n",
       "      <td>NaN</td>\n",
       "      <td>['молодец', 'красиво']</td>\n",
       "      <td>['молодец_красиво']</td>\n",
       "      <td>0</td>\n",
       "    </tr>\n",
       "    <tr>\n",
       "      <th>4</th>\n",
       "      <td>2019-07-03</td>\n",
       "      <td>Самый Красавец Кот</td>\n",
       "      <td>NaN</td>\n",
       "      <td>NaN</td>\n",
       "      <td>['самый', 'красавец', 'кот']</td>\n",
       "      <td>['самый_красавец', 'красавец_кот']</td>\n",
       "      <td>0</td>\n",
       "    </tr>\n",
       "  </tbody>\n",
       "</table>\n",
       "</div>"
      ],
      "text/plain": [
       "         date                   text link_title link_description  \\\n",
       "0  2014-11-20  Бузык барин булдирген        NaN              NaN   \n",
       "1  2014-10-28              Алтын куз        NaN              NaN   \n",
       "2  2014-07-14         Биз бакиттымыз        NaN              NaN   \n",
       "3  2016-09-05   Молодцы!!!Красиво!!!        NaN              NaN   \n",
       "4  2019-07-03     Самый Красавец Кот        NaN              NaN   \n",
       "\n",
       "                          unigrams                             bigrams  \\\n",
       "0  ['бузык', 'барин', 'булдирген']  ['бузык_барин', 'барин_булдирген']   \n",
       "1                 ['алтын', 'куз']                       ['алтын_куз']   \n",
       "2           ['биз', 'бакиттымыза']                 ['биз_бакиттымыза']   \n",
       "3           ['молодец', 'красиво']                 ['молодец_красиво']   \n",
       "4     ['самый', 'красавец', 'кот']  ['самый_красавец', 'красавец_кот']   \n",
       "\n",
       "   Spam-index  \n",
       "0           0  \n",
       "1           0  \n",
       "2           0  \n",
       "3           0  \n",
       "4           0  "
      ]
     },
     "execution_count": 33,
     "metadata": {},
     "output_type": "execute_result"
    }
   ],
   "source": [
    "# Load data with spam classification based on simple rules:\n",
    "import pandas as pd \n",
    "folder='../data/'\n",
    "file_name='text_preprocessed_Spamlabeled.csv'\n",
    "df=pd.read_csv(folder+file_name, sep=\"|\", encoding ='utf-8', index_col='Unnamed: 0')\n",
    "labels = df[\"Spam-index\"]\n",
    "print (df.shape[0])\n",
    "df.head()"
   ]
  },
  {
   "cell_type": "code",
   "execution_count": 34,
   "id": "a6f27aff",
   "metadata": {},
   "outputs": [
    {
     "name": "stdout",
     "output_type": "stream",
     "text": [
      "spam (1) and not-spam (0) counts: \n",
      "0    90523\n",
      "1    38914\n",
      "Name: Spam-index, dtype: int64\n"
     ]
    }
   ],
   "source": [
    "print ('spam (1) and not-spam (0) counts: ')\n",
    "print (labels.value_counts())"
   ]
  },
  {
   "cell_type": "markdown",
   "id": "64bff48e",
   "metadata": {},
   "source": [
    "Load model rubert-tiny2 "
   ]
  },
  {
   "cell_type": "code",
   "execution_count": 4,
   "id": "d203fd42",
   "metadata": {},
   "outputs": [
    {
     "name": "stderr",
     "output_type": "stream",
     "text": [
      "Some weights of the model checkpoint at DeepPavlov/distilrubert-tiny-cased-conversational-v1 were not used when initializing DistilBertModel: ['vocab_transform.weight', 'vocab_transform.bias', 'vocab_layer_norm.bias', 'vocab_layer_norm.weight', 'vocab_projector.weight', 'vocab_projector.bias']\n",
      "- This IS expected if you are initializing DistilBertModel from the checkpoint of a model trained on another task or with another architecture (e.g. initializing a BertForSequenceClassification model from a BertForPreTraining model).\n",
      "- This IS NOT expected if you are initializing DistilBertModel from the checkpoint of a model that you expect to be exactly identical (initializing a BertForSequenceClassification model from a BertForSequenceClassification model).\n"
     ]
    }
   ],
   "source": [
    "import numpy as np\n",
    "import torch\n",
    "from transformers import AutoTokenizer, AutoModel \n",
    "tokenizer = AutoTokenizer.from_pretrained(\"DeepPavlov/distilrubert-tiny-cased-conversational-v1\", model_max_length=512)\n",
    "model = AutoModel.from_pretrained(\"DeepPavlov/distilrubert-tiny-cased-conversational-v1\", num_labels=2)"
   ]
  },
  {
   "cell_type": "code",
   "execution_count": 5,
   "id": "f5793584",
   "metadata": {},
   "outputs": [],
   "source": [
    "from sklearn.model_selection import train_test_split\n",
    "from sklearn.linear_model import LogisticRegression\n",
    "from sklearn.model_selection import GridSearchCV\n",
    "from sklearn.svm import SVC\n",
    "from sklearn import metrics\n",
    "from logitboost import LogitBoost\n",
    "from sklearn.metrics import accuracy_score, classification_report"
   ]
  },
  {
   "cell_type": "code",
   "execution_count": 6,
   "id": "065b097f",
   "metadata": {},
   "outputs": [],
   "source": [
    "# === First run only - 1) Allocate 1000 for validation. 2) Divide into train, test 3) Save and then only load the saved subsamples"
   ]
  },
  {
   "cell_type": "markdown",
   "id": "3803456e",
   "metadata": {},
   "source": [
    "and get embeddings (embeddings were previously generated, so here we load them from X_train_test_emb.csv, X_valid_emb.csv)"
   ]
  },
  {
   "cell_type": "code",
   "execution_count": 315,
   "id": "136dc79d",
   "metadata": {},
   "outputs": [],
   "source": [
    "# Allocate 1000 for validation\n",
    "# from sklearn.model_selection import train_test_split\n",
    "# X_train, X_valid, y_train, y_valid = train_test_split(df_emb_, labels, test_size = 1000, stratify = labels, random_state = 1)"
   ]
  },
  {
   "cell_type": "markdown",
   "id": "5c6bd1db",
   "metadata": {},
   "source": [
    "After the initial split we train models and then edit train classes manually- some of those classes (predicted by simple rules) that are inconsistent with classes predicted by the model (LogitBoost based on rubert-tiny2 embeddings).  \n",
    "Here we provide the next step - we train models after manual editing"
   ]
  },
  {
   "cell_type": "markdown",
   "id": "9ed12899",
   "metadata": {},
   "source": [
    "=== Load train ===="
   ]
  },
  {
   "cell_type": "code",
   "execution_count": 46,
   "id": "56561b45",
   "metadata": {},
   "outputs": [],
   "source": [
    "import pandas as pd\n",
    "res_folder='../data/data_for_spam_filtering/'\n",
    "\n",
    "df_train=pd.read_csv(res_folder+'train-test_edited.csv', sep=\"|\", encoding ='utf-8', index_col='Column1')[['text', 'valid-label']]\n",
    "y_train=df_train['valid-label']\n",
    "df_X_train=pd.read_csv(res_folder+'X_train_test_emb.csv', sep='|', encoding='utf-8')\n",
    "df_X_train.drop('Unnamed: 0', axis=1, inplace=True)\n",
    "X_train=df_X_train.to_numpy()\n"
   ]
  },
  {
   "cell_type": "markdown",
   "id": "0e2eff3d",
   "metadata": {},
   "source": [
    "Load valid data set:"
   ]
  },
  {
   "cell_type": "code",
   "execution_count": 35,
   "id": "96d6a0a8",
   "metadata": {},
   "outputs": [
    {
     "name": "stdout",
     "output_type": "stream",
     "text": [
      "label - predicted by simple rules, valid-label - classes by expert\n"
     ]
    },
    {
     "data": {
      "text/html": [
       "<div>\n",
       "<style scoped>\n",
       "    .dataframe tbody tr th:only-of-type {\n",
       "        vertical-align: middle;\n",
       "    }\n",
       "\n",
       "    .dataframe tbody tr th {\n",
       "        vertical-align: top;\n",
       "    }\n",
       "\n",
       "    .dataframe thead th {\n",
       "        text-align: right;\n",
       "    }\n",
       "</style>\n",
       "<table border=\"1\" class=\"dataframe\">\n",
       "  <thead>\n",
       "    <tr style=\"text-align: right;\">\n",
       "      <th></th>\n",
       "      <th>text</th>\n",
       "      <th>label</th>\n",
       "      <th>valid-label</th>\n",
       "    </tr>\n",
       "  </thead>\n",
       "  <tbody>\n",
       "    <tr>\n",
       "      <th>0</th>\n",
       "      <td>МиниТест «Какой телефон подходит тебе? » показ...</td>\n",
       "      <td>1</td>\n",
       "      <td>1</td>\n",
       "    </tr>\n",
       "    <tr>\n",
       "      <th>1</th>\n",
       "      <td>Красивые правда?</td>\n",
       "      <td>0</td>\n",
       "      <td>0</td>\n",
       "    </tr>\n",
       "    <tr>\n",
       "      <th>2</th>\n",
       "      <td>Посвещается всем тётям !!</td>\n",
       "      <td>0</td>\n",
       "      <td>0</td>\n",
       "    </tr>\n",
       "    <tr>\n",
       "      <th>3</th>\n",
       "      <td>НОВЫЙ ТАНЦЕВАЛЬНЫЙ СЕЗОН 2019-2020 УЖЕ ЗДЕСЬ 💣...</td>\n",
       "      <td>1</td>\n",
       "      <td>1</td>\n",
       "    </tr>\n",
       "    <tr>\n",
       "      <th>4</th>\n",
       "      <td>__шик лофери __еколак _-підошва резина прошиті...</td>\n",
       "      <td>1</td>\n",
       "      <td>1</td>\n",
       "    </tr>\n",
       "  </tbody>\n",
       "</table>\n",
       "</div>"
      ],
      "text/plain": [
       "                                                text  label  valid-label\n",
       "0  МиниТест «Какой телефон подходит тебе? » показ...      1            1\n",
       "1                                   Красивые правда?      0            0\n",
       "2                          Посвещается всем тётям !!      0            0\n",
       "3  НОВЫЙ ТАНЦЕВАЛЬНЫЙ СЕЗОН 2019-2020 УЖЕ ЗДЕСЬ 💣...      1            1\n",
       "4  __шик лофери __еколак _-підошва резина прошиті...      1            1"
      ]
     },
     "execution_count": 35,
     "metadata": {},
     "output_type": "execute_result"
    }
   ],
   "source": [
    "df_valid=pd.read_csv(res_folder+'valid.csv', sep=\"|\", encoding ='utf-8')\n",
    "df_valid.drop('Column1', axis=1, inplace=True)\n",
    "print (\"label - predicted by simple rules, valid-label - classes by expert\")\n",
    "df_valid.head()\n"
   ]
  },
  {
   "cell_type": "code",
   "execution_count": 36,
   "id": "600c61cc",
   "metadata": {},
   "outputs": [],
   "source": [
    "y_valid=df_valid['valid-label'].tolist()\n",
    "y_simple_rules=df_valid['label'].tolist()"
   ]
  },
  {
   "cell_type": "markdown",
   "id": "f53ae6da",
   "metadata": {},
   "source": [
    "Validate classification based on simple rules"
   ]
  },
  {
   "cell_type": "code",
   "execution_count": 38,
   "id": "060cdf0f",
   "metadata": {},
   "outputs": [
    {
     "name": "stdout",
     "output_type": "stream",
     "text": [
      "Valid\n",
      "              precision    recall  f1-score   support\n",
      "\n",
      "           0       0.91      0.99      0.95       640\n",
      "           1       0.98      0.82      0.89       360\n",
      "\n",
      "    accuracy                           0.93      1000\n",
      "   macro avg       0.94      0.91      0.92      1000\n",
      "weighted avg       0.93      0.93      0.93      1000\n",
      "\n"
     ]
    }
   ],
   "source": [
    "report_valid = classification_report(y_valid, y_simple_rules)\n",
    "print('Valid\\n%s' % report_valid)"
   ]
  },
  {
   "cell_type": "code",
   "execution_count": 37,
   "id": "45390382",
   "metadata": {},
   "outputs": [],
   "source": [
    "df_X_valid=pd.read_csv(res_folder+'X_valid_emb.csv', sep='|', encoding='utf-8')\n",
    "df_X_valid.drop('Unnamed: 0', axis=1, inplace=True)\n",
    "X_valid=df_X_valid.to_numpy()"
   ]
  },
  {
   "cell_type": "code",
   "execution_count": 8,
   "id": "7d8dec38",
   "metadata": {},
   "outputs": [
    {
     "data": {
      "text/plain": [
       "array([0.78125   , 1.38888889])"
      ]
     },
     "execution_count": 8,
     "metadata": {},
     "output_type": "execute_result"
    }
   ],
   "source": [
    "import numpy as np\n",
    "from sklearn.utils.class_weight import compute_class_weight\n",
    "class_weight = compute_class_weight(\n",
    "    class_weight='balanced', classes=np.unique(y_valid), y=y_valid)\n",
    "class_weight"
   ]
  },
  {
   "cell_type": "markdown",
   "id": "54b94b86",
   "metadata": {},
   "source": [
    "Logit regression"
   ]
  },
  {
   "cell_type": "code",
   "execution_count": null,
   "id": "be482817",
   "metadata": {},
   "outputs": [],
   "source": [
    "# lr_clf = LogisticRegression(C=26.31586, class_weight={0:class_weight[0], 1:class_weight[1]})     #(C=grid_search.best_params_['C'])   \n",
    "parameters = {'C': np.linspace(0.0001, 10, 50), \"penalty\":[\"l1\",\"l2\"]}  #high C means \"Trust this training data a lot\", while a low value says \"This data may not be fully representative of the real world data, so if it's telling you to make a parameter really large, don't listen to it\"\n",
    "grid_search = GridSearchCV(LogisticRegression(class_weight={0:class_weight[0], 1:class_weight[1]}), parameters, cv=5, scoring='f1_macro')\n",
    "grid_search.fit(X_train, y_train)\n"
   ]
  },
  {
   "cell_type": "code",
   "execution_count": null,
   "id": "6fa3665f",
   "metadata": {},
   "outputs": [],
   "source": [
    "print(\"Best parameters from gridsearch: {}\".format(grid_search.best_params_))\n",
    "print(\"CV score=%0.3f\" % grid_search.best_score_)\n",
    "cv_resultsl = grid_search.cv_results_\n"
   ]
  },
  {
   "cell_type": "code",
   "execution_count": 63,
   "id": "ca5e9c34",
   "metadata": {},
   "outputs": [
    {
     "name": "stdout",
     "output_type": "stream",
     "text": [
      "Accuracy: 0.9258469132726551\n",
      "Precision: 0.8654765699713102\n",
      "Recall: 0.9131312160668813\n"
     ]
    }
   ],
   "source": [
    "# prediction for train dataset\n",
    "y_pred_train=(grid_search.predict_proba(X_train)[:,1] >= 0.5).astype(int)\n",
    "print(\"Accuracy:\",metrics.accuracy_score(y_train, y_pred_train)) \n",
    "print(\"Precision:\",metrics.precision_score(y_train, y_pred_train)) \n",
    "print(\"Recall:\",metrics.recall_score(y_train, y_pred_train))"
   ]
  },
  {
   "cell_type": "code",
   "execution_count": 66,
   "id": "fcfa6e54",
   "metadata": {},
   "outputs": [
    {
     "name": "stdout",
     "output_type": "stream",
     "text": [
      "Valid\n",
      "              precision    recall  f1-score   support\n",
      "\n",
      "           0       0.92      0.95      0.93       640\n",
      "           1       0.90      0.85      0.88       360\n",
      "\n",
      "    accuracy                           0.91      1000\n",
      "   macro avg       0.91      0.90      0.90      1000\n",
      "weighted avg       0.91      0.91      0.91      1000\n",
      "\n"
     ]
    }
   ],
   "source": [
    "y_pred_valid=(grid_search.predict_proba(X_valid)[:,1] >= 0.5).astype(int)\n",
    "report_valid = classification_report(y_valid, y_pred_valid)\n",
    "print('Valid\\n%s' % report_valid)"
   ]
  },
  {
   "cell_type": "markdown",
   "id": "d9a0be7d",
   "metadata": {},
   "source": [
    "LogitBoost"
   ]
  },
  {
   "cell_type": "code",
   "execution_count": null,
   "id": "b55a7733",
   "metadata": {},
   "outputs": [],
   "source": [
    "steps = [('LogitBoost', LogitBoost())]\n",
    "from sklearn.pipeline import Pipeline\n",
    "pipeline = Pipeline(steps)\n",
    "parameteres = {'LogitBoost__n_estimators':range(10,100,10)}\n",
    "grid_boost = GridSearchCV(pipeline, param_grid=parameteres, cv=5)\n",
    "grid_boost.fit(X_train, y_train)\n"
   ]
  },
  {
   "cell_type": "code",
   "execution_count": 69,
   "id": "66465a4e",
   "metadata": {},
   "outputs": [
    {
     "name": "stdout",
     "output_type": "stream",
     "text": [
      "Training accuracy: 0.9442\n",
      "Training\n",
      "              precision    recall  f1-score   support\n",
      "\n",
      "         0.0       0.95      0.97      0.96     86811\n",
      "         1.0       0.94      0.88      0.91     41626\n",
      "\n",
      "    accuracy                           0.94    128437\n",
      "   macro avg       0.94      0.93      0.94    128437\n",
      "weighted avg       0.94      0.94      0.94    128437\n",
      "\n"
     ]
    }
   ],
   "source": [
    "y_pred_train = (grid_boost.predict_proba(X_train)[:,1] >= 0.5).astype(int)\n",
    "accuracy_train = accuracy_score(y_train, y_pred_train)\n",
    "print('Training accuracy: %.4f' % accuracy_train)\n",
    "report_train = classification_report(y_train, y_pred_train)\n",
    "print('Training\\n%s' % report_train)"
   ]
  },
  {
   "cell_type": "code",
   "execution_count": 70,
   "id": "70808bd2",
   "metadata": {},
   "outputs": [
    {
     "name": "stdout",
     "output_type": "stream",
     "text": [
      "Valid accuracy:  0.917\n",
      "Valid\n",
      "              precision    recall  f1-score   support\n",
      "\n",
      "           0       0.90      0.98      0.94       640\n",
      "           1       0.96      0.80      0.87       360\n",
      "\n",
      "    accuracy                           0.92      1000\n",
      "   macro avg       0.93      0.89      0.91      1000\n",
      "weighted avg       0.92      0.92      0.92      1000\n",
      "\n"
     ]
    }
   ],
   "source": [
    "y_pred_valid = (grid_boost.predict_proba(X_valid)[:,1] >= 0.5).astype(int)\n",
    "accuracy_valid = accuracy_score(y_valid, y_pred_valid)\n",
    "\n",
    "print('Valid accuracy: ', accuracy_valid)\n",
    "report_valid = classification_report(y_valid, y_pred_valid)\n",
    "print('Valid\\n%s' % report_valid)"
   ]
  },
  {
   "cell_type": "markdown",
   "id": "949852e3",
   "metadata": {},
   "source": [
    "SVM"
   ]
  },
  {
   "cell_type": "code",
   "execution_count": 12,
   "id": "edf980f6",
   "metadata": {},
   "outputs": [
    {
     "data": {
      "text/html": [
       "<style>#sk-container-id-1 {color: black;background-color: white;}#sk-container-id-1 pre{padding: 0;}#sk-container-id-1 div.sk-toggleable {background-color: white;}#sk-container-id-1 label.sk-toggleable__label {cursor: pointer;display: block;width: 100%;margin-bottom: 0;padding: 0.3em;box-sizing: border-box;text-align: center;}#sk-container-id-1 label.sk-toggleable__label-arrow:before {content: \"▸\";float: left;margin-right: 0.25em;color: #696969;}#sk-container-id-1 label.sk-toggleable__label-arrow:hover:before {color: black;}#sk-container-id-1 div.sk-estimator:hover label.sk-toggleable__label-arrow:before {color: black;}#sk-container-id-1 div.sk-toggleable__content {max-height: 0;max-width: 0;overflow: hidden;text-align: left;background-color: #f0f8ff;}#sk-container-id-1 div.sk-toggleable__content pre {margin: 0.2em;color: black;border-radius: 0.25em;background-color: #f0f8ff;}#sk-container-id-1 input.sk-toggleable__control:checked~div.sk-toggleable__content {max-height: 200px;max-width: 100%;overflow: auto;}#sk-container-id-1 input.sk-toggleable__control:checked~label.sk-toggleable__label-arrow:before {content: \"▾\";}#sk-container-id-1 div.sk-estimator input.sk-toggleable__control:checked~label.sk-toggleable__label {background-color: #d4ebff;}#sk-container-id-1 div.sk-label input.sk-toggleable__control:checked~label.sk-toggleable__label {background-color: #d4ebff;}#sk-container-id-1 input.sk-hidden--visually {border: 0;clip: rect(1px 1px 1px 1px);clip: rect(1px, 1px, 1px, 1px);height: 1px;margin: -1px;overflow: hidden;padding: 0;position: absolute;width: 1px;}#sk-container-id-1 div.sk-estimator {font-family: monospace;background-color: #f0f8ff;border: 1px dotted black;border-radius: 0.25em;box-sizing: border-box;margin-bottom: 0.5em;}#sk-container-id-1 div.sk-estimator:hover {background-color: #d4ebff;}#sk-container-id-1 div.sk-parallel-item::after {content: \"\";width: 100%;border-bottom: 1px solid gray;flex-grow: 1;}#sk-container-id-1 div.sk-label:hover label.sk-toggleable__label {background-color: #d4ebff;}#sk-container-id-1 div.sk-serial::before {content: \"\";position: absolute;border-left: 1px solid gray;box-sizing: border-box;top: 0;bottom: 0;left: 50%;z-index: 0;}#sk-container-id-1 div.sk-serial {display: flex;flex-direction: column;align-items: center;background-color: white;padding-right: 0.2em;padding-left: 0.2em;position: relative;}#sk-container-id-1 div.sk-item {position: relative;z-index: 1;}#sk-container-id-1 div.sk-parallel {display: flex;align-items: stretch;justify-content: center;background-color: white;position: relative;}#sk-container-id-1 div.sk-item::before, #sk-container-id-1 div.sk-parallel-item::before {content: \"\";position: absolute;border-left: 1px solid gray;box-sizing: border-box;top: 0;bottom: 0;left: 50%;z-index: -1;}#sk-container-id-1 div.sk-parallel-item {display: flex;flex-direction: column;z-index: 1;position: relative;background-color: white;}#sk-container-id-1 div.sk-parallel-item:first-child::after {align-self: flex-end;width: 50%;}#sk-container-id-1 div.sk-parallel-item:last-child::after {align-self: flex-start;width: 50%;}#sk-container-id-1 div.sk-parallel-item:only-child::after {width: 0;}#sk-container-id-1 div.sk-dashed-wrapped {border: 1px dashed gray;margin: 0 0.4em 0.5em 0.4em;box-sizing: border-box;padding-bottom: 0.4em;background-color: white;}#sk-container-id-1 div.sk-label label {font-family: monospace;font-weight: bold;display: inline-block;line-height: 1.2em;}#sk-container-id-1 div.sk-label-container {text-align: center;}#sk-container-id-1 div.sk-container {/* jupyter's `normalize.less` sets `[hidden] { display: none; }` but bootstrap.min.css set `[hidden] { display: none !important; }` so we also need the `!important` here to be able to override the default hidden behavior on the sphinx rendered scikit-learn.org. See: https://github.com/scikit-learn/scikit-learn/issues/21755 */display: inline-block !important;position: relative;}#sk-container-id-1 div.sk-text-repr-fallback {display: none;}</style><div id=\"sk-container-id-1\" class=\"sk-top-container\"><div class=\"sk-text-repr-fallback\"><pre>GridSearchCV(cv=5,\n",
       "             estimator=SVC(class_weight={0: 0.78125, 1: 1.3888888888888888},\n",
       "                           probability=True),\n",
       "             param_grid={&#x27;C&#x27;: [1], &#x27;gamma&#x27;: [1], &#x27;kernel&#x27;: [&#x27;rbf&#x27;]},\n",
       "             scoring=&#x27;f1_macro&#x27;)</pre><b>In a Jupyter environment, please rerun this cell to show the HTML representation or trust the notebook. <br />On GitHub, the HTML representation is unable to render, please try loading this page with nbviewer.org.</b></div><div class=\"sk-container\" hidden><div class=\"sk-item sk-dashed-wrapped\"><div class=\"sk-label-container\"><div class=\"sk-label sk-toggleable\"><input class=\"sk-toggleable__control sk-hidden--visually\" id=\"sk-estimator-id-1\" type=\"checkbox\" ><label for=\"sk-estimator-id-1\" class=\"sk-toggleable__label sk-toggleable__label-arrow\">GridSearchCV</label><div class=\"sk-toggleable__content\"><pre>GridSearchCV(cv=5,\n",
       "             estimator=SVC(class_weight={0: 0.78125, 1: 1.3888888888888888},\n",
       "                           probability=True),\n",
       "             param_grid={&#x27;C&#x27;: [1], &#x27;gamma&#x27;: [1], &#x27;kernel&#x27;: [&#x27;rbf&#x27;]},\n",
       "             scoring=&#x27;f1_macro&#x27;)</pre></div></div></div><div class=\"sk-parallel\"><div class=\"sk-parallel-item\"><div class=\"sk-item\"><div class=\"sk-label-container\"><div class=\"sk-label sk-toggleable\"><input class=\"sk-toggleable__control sk-hidden--visually\" id=\"sk-estimator-id-2\" type=\"checkbox\" ><label for=\"sk-estimator-id-2\" class=\"sk-toggleable__label sk-toggleable__label-arrow\">estimator: SVC</label><div class=\"sk-toggleable__content\"><pre>SVC(class_weight={0: 0.78125, 1: 1.3888888888888888}, probability=True)</pre></div></div></div><div class=\"sk-serial\"><div class=\"sk-item\"><div class=\"sk-estimator sk-toggleable\"><input class=\"sk-toggleable__control sk-hidden--visually\" id=\"sk-estimator-id-3\" type=\"checkbox\" ><label for=\"sk-estimator-id-3\" class=\"sk-toggleable__label sk-toggleable__label-arrow\">SVC</label><div class=\"sk-toggleable__content\"><pre>SVC(class_weight={0: 0.78125, 1: 1.3888888888888888}, probability=True)</pre></div></div></div></div></div></div></div></div></div></div>"
      ],
      "text/plain": [
       "GridSearchCV(cv=5,\n",
       "             estimator=SVC(class_weight={0: 0.78125, 1: 1.3888888888888888},\n",
       "                           probability=True),\n",
       "             param_grid={'C': [1], 'gamma': [1], 'kernel': ['rbf']},\n",
       "             scoring='f1_macro')"
      ]
     },
     "execution_count": 12,
     "metadata": {},
     "output_type": "execute_result"
    }
   ],
   "source": [
    "# parameteres = {'C': [1], 'gamma': [1],'kernel': ['rbf']}\n",
    "# grid_svm = GridSearchCV(SVC(class_weight={0:class_weight[0], 1:class_weight[1]}, probability=True), parameteres , cv=5, scoring='f1_macro')\n",
    "grid_svm.fit(X_train, y_train)"
   ]
  },
  {
   "cell_type": "code",
   "execution_count": 47,
   "id": "d2888458",
   "metadata": {},
   "outputs": [
    {
     "name": "stdout",
     "output_type": "stream",
     "text": [
      "Training accuracy: 0.9560\n",
      "Training\n",
      "              precision    recall  f1-score   support\n",
      "\n",
      "         0.0       0.96      0.97      0.97     86811\n",
      "         1.0       0.94      0.92      0.93     41626\n",
      "\n",
      "    accuracy                           0.96    128437\n",
      "   macro avg       0.95      0.95      0.95    128437\n",
      "weighted avg       0.96      0.96      0.96    128437\n",
      "\n"
     ]
    }
   ],
   "source": [
    "y_pred_train = (grid_svm.predict_proba(X_train)[:,1] >= 0.5).astype(int)\n",
    "accuracy_train = accuracy_score(y_train, y_pred_train)\n",
    "print('Training accuracy: %.4f' % accuracy_train)\n",
    "report_train = classification_report(y_train, y_pred_train)\n",
    "print('Training\\n%s' % report_train)\n"
   ]
  },
  {
   "cell_type": "code",
   "execution_count": 14,
   "id": "7d9d1170",
   "metadata": {},
   "outputs": [
    {
     "name": "stdout",
     "output_type": "stream",
     "text": [
      "Valid accuracy:  0.943\n",
      "Valid\n",
      "              precision    recall  f1-score   support\n",
      "\n",
      "           0       0.93      0.98      0.96       640\n",
      "           1       0.97      0.87      0.92       360\n",
      "\n",
      "    accuracy                           0.94      1000\n",
      "   macro avg       0.95      0.93      0.94      1000\n",
      "weighted avg       0.94      0.94      0.94      1000\n",
      "\n"
     ]
    }
   ],
   "source": [
    "y_pred_valid = (grid_svm.predict_proba(X_valid)[:,1] >= 0.5).astype(int)\n",
    "accuracy_valid = accuracy_score(y_valid, y_pred_valid)\n",
    "\n",
    "print('Valid accuracy: ', accuracy_valid)\n",
    "report_valid = classification_report(y_valid, y_pred_valid)\n",
    "print('Valid\\n%s' % report_valid)"
   ]
  },
  {
   "cell_type": "markdown",
   "id": "e34d2d83",
   "metadata": {},
   "source": [
    "The best model is SVM. Calculate the number of spam posts according to the SVM model:"
   ]
  },
  {
   "cell_type": "code",
   "execution_count": 49,
   "id": "d5a948f8",
   "metadata": {},
   "outputs": [
    {
     "name": "stdout",
     "output_type": "stream",
     "text": [
      "number of spam posts: 41191\n"
     ]
    }
   ],
   "source": [
    "print ('number of spam posts:',sum(y_pred_train)+sum(y_pred_valid))"
   ]
  }
 ],
 "metadata": {
  "kernelspec": {
   "display_name": "Python 3 (ipykernel)",
   "language": "python",
   "name": "python3"
  },
  "language_info": {
   "codemirror_mode": {
    "name": "ipython",
    "version": 3
   },
   "file_extension": ".py",
   "mimetype": "text/x-python",
   "name": "python",
   "nbconvert_exporter": "python",
   "pygments_lexer": "ipython3",
   "version": "3.8.13"
  }
 },
 "nbformat": 4,
 "nbformat_minor": 5
}
