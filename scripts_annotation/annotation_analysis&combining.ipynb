{
 "cells": [
  {
   "cell_type": "markdown",
   "id": "949648e6",
   "metadata": {},
   "source": [
    "# Load Trial dataset with expert, crowd and ChatGPT annotations"
   ]
  },
  {
   "cell_type": "markdown",
   "id": "ec3124c6",
   "metadata": {},
   "source": [
    "Columns description:\n",
    "\n",
    "label1, label2, label3, gpt-result - classes for ChatGPT annotation\n",
    "\n",
    "label_1_x, label_2_x, label_3_x, result - classes for experts annotation; percentage_x - percentage of identical classes\n",
    "\n",
    "label_1_y, label_2_y, label_3_y, label_toloker - classes for crowd-workers annotation\n",
    "\n",
    "final_label - final class based on combining crowd and ChatGPT annotation\n",
    "\n",
    "gpt_result2, label_toloker2 - classes if class 2 combined with class 0"
   ]
  },
  {
   "cell_type": "code",
   "execution_count": 169,
   "id": "442675af",
   "metadata": {},
   "outputs": [
    {
     "data": {
      "text/html": [
       "<div>\n",
       "<style scoped>\n",
       "    .dataframe tbody tr th:only-of-type {\n",
       "        vertical-align: middle;\n",
       "    }\n",
       "\n",
       "    .dataframe tbody tr th {\n",
       "        vertical-align: top;\n",
       "    }\n",
       "\n",
       "    .dataframe thead th {\n",
       "        text-align: right;\n",
       "    }\n",
       "</style>\n",
       "<table border=\"1\" class=\"dataframe\">\n",
       "  <thead>\n",
       "    <tr style=\"text-align: right;\">\n",
       "      <th></th>\n",
       "      <th>text</th>\n",
       "      <th>label1</th>\n",
       "      <th>label2</th>\n",
       "      <th>label3</th>\n",
       "      <th>gpt_result</th>\n",
       "      <th>label_1_x</th>\n",
       "      <th>label_2_x</th>\n",
       "      <th>label_3_x</th>\n",
       "      <th>result</th>\n",
       "      <th>percentage_x</th>\n",
       "      <th>label_1_y</th>\n",
       "      <th>label_2_y</th>\n",
       "      <th>label_3_y</th>\n",
       "      <th>label_toloker</th>\n",
       "      <th>percentage_y</th>\n",
       "      <th>final_label</th>\n",
       "      <th>gpt_result2</th>\n",
       "      <th>label_toloker2</th>\n",
       "    </tr>\n",
       "  </thead>\n",
       "  <tbody>\n",
       "    <tr>\n",
       "      <th>0</th>\n",
       "      <td>- интересный новый сервис, где можно оставить...</td>\n",
       "      <td>1</td>\n",
       "      <td>1</td>\n",
       "      <td>1</td>\n",
       "      <td>1</td>\n",
       "      <td>3.0</td>\n",
       "      <td>3.0</td>\n",
       "      <td>3.0</td>\n",
       "      <td>3</td>\n",
       "      <td>100.0</td>\n",
       "      <td>3</td>\n",
       "      <td>0</td>\n",
       "      <td>0</td>\n",
       "      <td>0.0</td>\n",
       "      <td>67</td>\n",
       "      <td>1.0</td>\n",
       "      <td>1</td>\n",
       "      <td>0.0</td>\n",
       "    </tr>\n",
       "    <tr>\n",
       "      <th>1</th>\n",
       "      <td>чет как-то нерадостно все это...особо на фоне...</td>\n",
       "      <td>0</td>\n",
       "      <td>0</td>\n",
       "      <td>0</td>\n",
       "      <td>0</td>\n",
       "      <td>0.0</td>\n",
       "      <td>0.0</td>\n",
       "      <td>0.0</td>\n",
       "      <td>0</td>\n",
       "      <td>100.0</td>\n",
       "      <td>1</td>\n",
       "      <td>0</td>\n",
       "      <td>0</td>\n",
       "      <td>0.0</td>\n",
       "      <td>67</td>\n",
       "      <td>0.0</td>\n",
       "      <td>0</td>\n",
       "      <td>0.0</td>\n",
       "    </tr>\n",
       "    <tr>\n",
       "      <th>2</th>\n",
       "      <td>#Repost with . ・・・ жаль что быстро убежала!!!#...</td>\n",
       "      <td>2</td>\n",
       "      <td>2</td>\n",
       "      <td>2</td>\n",
       "      <td>2</td>\n",
       "      <td>0.0</td>\n",
       "      <td>2.0</td>\n",
       "      <td>0.0</td>\n",
       "      <td>0</td>\n",
       "      <td>67.0</td>\n",
       "      <td>3</td>\n",
       "      <td>2</td>\n",
       "      <td>0</td>\n",
       "      <td>0.0</td>\n",
       "      <td>0</td>\n",
       "      <td>2.0</td>\n",
       "      <td>0</td>\n",
       "      <td>0.0</td>\n",
       "    </tr>\n",
       "    <tr>\n",
       "      <th>3</th>\n",
       "      <td>#hellomyearth #дорогажизни #разорванноекольцо</td>\n",
       "      <td>2</td>\n",
       "      <td>2</td>\n",
       "      <td>2</td>\n",
       "      <td>2</td>\n",
       "      <td>0.0</td>\n",
       "      <td>0.0</td>\n",
       "      <td>0.0</td>\n",
       "      <td>0</td>\n",
       "      <td>100.0</td>\n",
       "      <td>0</td>\n",
       "      <td>0</td>\n",
       "      <td>3</td>\n",
       "      <td>0.0</td>\n",
       "      <td>67</td>\n",
       "      <td>2.0</td>\n",
       "      <td>0</td>\n",
       "      <td>0.0</td>\n",
       "    </tr>\n",
       "    <tr>\n",
       "      <th>4</th>\n",
       "      <td>#ВтандемеСМамой#кактампробка#😁</td>\n",
       "      <td>2</td>\n",
       "      <td>2</td>\n",
       "      <td>2</td>\n",
       "      <td>2</td>\n",
       "      <td>0.0</td>\n",
       "      <td>0.0</td>\n",
       "      <td>0.0</td>\n",
       "      <td>0</td>\n",
       "      <td>100.0</td>\n",
       "      <td>1</td>\n",
       "      <td>0</td>\n",
       "      <td>0</td>\n",
       "      <td>0.0</td>\n",
       "      <td>67</td>\n",
       "      <td>2.0</td>\n",
       "      <td>0</td>\n",
       "      <td>0.0</td>\n",
       "    </tr>\n",
       "  </tbody>\n",
       "</table>\n",
       "</div>"
      ],
      "text/plain": [
       "                                                text  label1  label2  label3  \\\n",
       "0   - интересный новый сервис, где можно оставить...       1       1       1   \n",
       "1   чет как-то нерадостно все это...особо на фоне...       0       0       0   \n",
       "2  #Repost with . ・・・ жаль что быстро убежала!!!#...       2       2       2   \n",
       "3      #hellomyearth #дорогажизни #разорванноекольцо       2       2       2   \n",
       "4                     #ВтандемеСМамой#кактампробка#😁       2       2       2   \n",
       "\n",
       "   gpt_result  label_1_x  label_2_x  label_3_x  result  percentage_x  \\\n",
       "0           1        3.0        3.0        3.0       3         100.0   \n",
       "1           0        0.0        0.0        0.0       0         100.0   \n",
       "2           2        0.0        2.0        0.0       0          67.0   \n",
       "3           2        0.0        0.0        0.0       0         100.0   \n",
       "4           2        0.0        0.0        0.0       0         100.0   \n",
       "\n",
       "   label_1_y  label_2_y  label_3_y  label_toloker  percentage_y  final_label  \\\n",
       "0          3          0          0            0.0            67          1.0   \n",
       "1          1          0          0            0.0            67          0.0   \n",
       "2          3          2          0            0.0             0          2.0   \n",
       "3          0          0          3            0.0            67          2.0   \n",
       "4          1          0          0            0.0            67          2.0   \n",
       "\n",
       "   gpt_result2  label_toloker2  \n",
       "0            1             0.0  \n",
       "1            0             0.0  \n",
       "2            0             0.0  \n",
       "3            0             0.0  \n",
       "4            0             0.0  "
      ]
     },
     "execution_count": 169,
     "metadata": {},
     "output_type": "execute_result"
    }
   ],
   "source": [
    "import pandas as pd\n",
    "\n",
    "folder_='../data/'\n",
    "file_='trial804_experts_crowd_gpt.csv'\n",
    "\n",
    "df_all_merged=pd.read_csv(folder_+file_, sep=\"|\", encoding ='utf-8', index_col=False)\n",
    "df_all_merged.drop('Unnamed: 0', axis=1, inplace=True)\n",
    "df_all_merged.head()"
   ]
  },
  {
   "cell_type": "markdown",
   "id": "8ef9c559",
   "metadata": {},
   "source": [
    "Load procedures for Simpledorff Alpha and for Combining crowd and ChatGPT results"
   ]
  },
  {
   "cell_type": "code",
   "execution_count": 167,
   "id": "34d501f0",
   "metadata": {},
   "outputs": [],
   "source": [
    "import simpledorff\n",
    "def CalculateSimpledorffAlpha(df, column_names_list):\n",
    "    \n",
    "    df_melted=pd.melt(df, id_vars=['text'], value_vars=column_names_list)\n",
    "    df_melted['value'] = df_melted['value'].astype(float, errors='ignore').astype(int, errors='ignore')\n",
    "    alfa=simpledorff.calculate_krippendorffs_alpha_for_df(df_melted,experiment_col='text',\n",
    "                                                 annotator_col='variable',\n",
    "                                                 class_col='value')\n",
    "    return alfa\n",
    "    "
   ]
  },
  {
   "cell_type": "code",
   "execution_count": 168,
   "id": "514926bf",
   "metadata": {},
   "outputs": [],
   "source": [
    "import numpy as np\n",
    "\n",
    "def CombineResults(df, label_toloker, percentage_toloker, gpt_result):\n",
    "    \n",
    "    df[label_toloker] = df[label_toloker].astype(float, errors='ignore').astype(int, errors='ignore')\n",
    "    df[gpt_result] = df[gpt_result].astype(float, errors='ignore').astype(int, errors='ignore')\n",
    "    \n",
    "    df['final_label']=pd.Series(dtype='int')\n",
    "    df[percentage_toloker] = df[percentage_toloker].astype(int)\n",
    "\n",
    "\n",
    "    df['final_label']=df['gpt_result']\n",
    "    df['final_label']=np.where((df[gpt_result] == 1)&(df[percentage_toloker]  == 100)&(df[label_toloker]  == 0), 0,\\\n",
    "                                    np.where((df[gpt_result] == 0)&(df[percentage_toloker]  == 100)&(df[label_toloker]  == 1), 1,\\\n",
    "                                   (np.where((df[label_toloker]  == 3),3, df[gpt_result]))))\n",
    "\n",
    "    return df                               \n"
   ]
  },
  {
   "cell_type": "code",
   "execution_count": 170,
   "id": "f201e29b",
   "metadata": {},
   "outputs": [
    {
     "name": "stdout",
     "output_type": "stream",
     "text": [
      "frequency distribution for expert annotation\n"
     ]
    },
    {
     "data": {
      "text/plain": [
       "0    493\n",
       "1    239\n",
       "3     72\n",
       "Name: result, dtype: int64"
      ]
     },
     "execution_count": 170,
     "metadata": {},
     "output_type": "execute_result"
    }
   ],
   "source": [
    "print (\"frequency distribution for expert annotation\")\n",
    "df_all_merged.result.value_counts()"
   ]
  },
  {
   "cell_type": "code",
   "execution_count": 171,
   "id": "09c3b7d7",
   "metadata": {},
   "outputs": [
    {
     "name": "stdout",
     "output_type": "stream",
     "text": [
      "frequency distribution for crowd annotation\n"
     ]
    },
    {
     "data": {
      "text/plain": [
       "0.0    479\n",
       "1.0    242\n",
       "3.0     79\n",
       "2.0      4\n",
       "Name: label_toloker, dtype: int64"
      ]
     },
     "execution_count": 171,
     "metadata": {},
     "output_type": "execute_result"
    }
   ],
   "source": [
    "print (\"frequency distribution for crowd annotation\")\n",
    "df_all_merged.label_toloker.value_counts()"
   ]
  },
  {
   "cell_type": "code",
   "execution_count": 172,
   "id": "b0d6c326",
   "metadata": {},
   "outputs": [
    {
     "name": "stdout",
     "output_type": "stream",
     "text": [
      "frequency distribution for ChatGPT annotation\n"
     ]
    },
    {
     "data": {
      "text/plain": [
       "1.0    2254\n",
       "0.0    1722\n",
       "2.0     967\n",
       "3.0      92\n",
       "Name: gpt_result, dtype: int64"
      ]
     },
     "execution_count": 172,
     "metadata": {},
     "output_type": "execute_result"
    }
   ],
   "source": [
    "print (\"frequency distribution for ChatGPT annotation\")\n",
    "df.gpt_result.value_counts()"
   ]
  },
  {
   "cell_type": "markdown",
   "id": "b7db6a9c",
   "metadata": {},
   "source": [
    "# Calculate Simpledorff Alpha"
   ]
  },
  {
   "cell_type": "code",
   "execution_count": 173,
   "id": "4dfc162b",
   "metadata": {},
   "outputs": [
    {
     "name": "stdout",
     "output_type": "stream",
     "text": [
      "Crowd-workers, alfa for 4 classes: 0.44181533439288323\n",
      "Crowd-workers, alfa for 3 classes: 0.45686950150683225\n"
     ]
    }
   ],
   "source": [
    "alfa=CalculateSimpledorffAlpha(df_all_merged, ['label_1_y', 'label_2_y', 'label_3_y'])\n",
    "print ('Crowd-workers, alfa for 4 classes:', alfa)\n",
    "\n",
    "df_all_merged_g=df_all_merged.replace({'label_1_y': {2: 0}, 'label_2_y': {2: 0}, 'label_3_y': {2: 0}})\n",
    "alfa=CalculateSimpledorffAlpha(df_all_merged_g, ['label_1_y', 'label_2_y', 'label_3_y'])\n",
    "print ('Crowd-workers, alfa for 3 classes:', alfa)"
   ]
  },
  {
   "cell_type": "code",
   "execution_count": 174,
   "id": "416436cc",
   "metadata": {},
   "outputs": [
    {
     "name": "stdout",
     "output_type": "stream",
     "text": [
      "Experts, alfa for 4 classes: 0.5352792759010108\n",
      "Experts, alfa for 3 classes: 0.5714305099903783\n"
     ]
    }
   ],
   "source": [
    "alfa=CalculateSimpledorffAlpha(df_all_merged, ['label_1_x', 'label_2_x', 'label_3_x'])\n",
    "print ('Experts, alfa for 4 classes:', alfa)\n",
    "\n",
    "df_all_merged_g=df_all_merged.replace({'label_1_x': {2: 0}, 'label_2_x': {2: 0}, 'label_3_x': {2: 0}})\n",
    "alfa=CalculateSimpledorffAlpha(df_all_merged_g, ['label_1_x', 'label_2_x', 'label_3_x'])\n",
    "print ('Experts, alfa for 3 classes:', alfa)"
   ]
  },
  {
   "cell_type": "code",
   "execution_count": 175,
   "id": "9ff3ddf8",
   "metadata": {},
   "outputs": [
    {
     "name": "stdout",
     "output_type": "stream",
     "text": [
      "ChatGPT, alfa for 4 classes: 0.9534130854045563\n",
      "ChatGPT, alfa for 3 classes: 0.975823256068921\n"
     ]
    }
   ],
   "source": [
    "alfa=CalculateSimpledorffAlpha(df_all_merged, ['label1', 'label2', 'label3'])\n",
    "print ('ChatGPT, alfa for 4 classes:', alfa)\n",
    "\n",
    "df_all_merged_g=df_all_merged.replace({'label1': {2: 0}, 'label2': {2: 0}, 'label3': {2: 0}})\n",
    "alfa=CalculateSimpledorffAlpha(df_all_merged_g, ['label1', 'label2', 'label3'])\n",
    "print ('ChatGPT, alfa for 3 classes:', alfa)"
   ]
  },
  {
   "cell_type": "markdown",
   "id": "f592d816",
   "metadata": {},
   "source": [
    "# Accuracy"
   ]
  },
  {
   "cell_type": "code",
   "execution_count": 176,
   "id": "5c6cc84e",
   "metadata": {},
   "outputs": [],
   "source": [
    "from sklearn.metrics import accuracy_score\n",
    "from sklearn.metrics import confusion_matrix\n",
    "import seaborn as sns\n",
    "import matplotlib.pyplot as plt\n",
    "import numpy as np\n"
   ]
  },
  {
   "cell_type": "code",
   "execution_count": 177,
   "id": "752e5019",
   "metadata": {},
   "outputs": [],
   "source": [
    "# if Nan - replace with 0\n",
    "df_all_merged.result.replace({'Nan': 0}, inplace=True)\n",
    "df_all_merged.result=df_all_merged.result.astype('int')\n",
    "\n",
    "df_all_merged.gpt_result.replace({'Nan': 0}, inplace=True)\n",
    "df_all_merged.gpt_result=df_all_merged.gpt_result.astype('int')\n",
    "\n",
    "df_all_merged.label_toloker.replace({'Nan': 0}, inplace=True)\n",
    "df_all_merged.label_toloker=df_all_merged.label_toloker.astype('int')"
   ]
  },
  {
   "cell_type": "code",
   "execution_count": 178,
   "id": "e5ba3b43",
   "metadata": {},
   "outputs": [
    {
     "name": "stdout",
     "output_type": "stream",
     "text": [
      "Accuracy ChatGpt, 4 classes: 0.5659203980099502\n",
      "Accuracy ChatGpt, 3 classes: 0.7189054726368159\n"
     ]
    }
   ],
   "source": [
    "# gpt vs experts\n",
    "\n",
    "acc_gpt=accuracy_score(df_all_merged.result.to_list(), df_all_merged.gpt_result.to_list())\n",
    "print ('Accuracy ChatGpt, 4 classes:', acc_gpt)\n",
    "\n",
    "df_all_merged['gpt_result2']=df_all_merged['gpt_result'].replace(2.0, 0.0)\n",
    "acc_gpt=accuracy_score(df_all_merged.result.to_list(), df_all_merged.gpt_result2.to_list())\n",
    "print ('Accuracy ChatGpt, 3 classes:', acc_gpt)"
   ]
  },
  {
   "cell_type": "code",
   "execution_count": 179,
   "id": "ec2e7cd2",
   "metadata": {},
   "outputs": [
    {
     "name": "stdout",
     "output_type": "stream",
     "text": [
      "Accuracy crowd-workers, 4 classes: 0.7325870646766169\n",
      "Accuracy crowd-workers, 3 classes: 0.736318407960199\n"
     ]
    }
   ],
   "source": [
    "# crowd-workers vs experts\n",
    "\n",
    "acc_label_toloker=accuracy_score(df_all_merged.result.to_list(), df_all_merged.label_toloker.to_list())\n",
    "print ('Accuracy crowd-workers, 4 classes:', acc_label_toloker)\n",
    "\n",
    "df_all_merged['label_toloker2']=df_all_merged['label_toloker'].replace(2.0, 0.0)\n",
    "acc_label_toloker=accuracy_score(df_all_merged.result.to_list(), df_all_merged.label_toloker2.to_list())\n",
    "print ('Accuracy crowd-workers, 3 classes:', acc_label_toloker)"
   ]
  },
  {
   "cell_type": "code",
   "execution_count": 180,
   "id": "40f340bb",
   "metadata": {},
   "outputs": [],
   "source": [
    "def PlotHeatMap(y_true, y_pred, x_name, y_name):\n",
    "    fold='../img/'\n",
    "    cm = confusion_matrix(y_true, y_pred, labels=[0,1,3])\n",
    "    cmn = cm.astype('float') / cm.sum(axis=1)[:, np.newaxis]\n",
    "    plt.figure(figsize=(3, 3))\n",
    "    ax=sns.heatmap(cmn, annot=True, fmt=\".2f\", linewidth=.5, cbar=False, xticklabels=['doesn\\'t\\nreflect', 'reflects', 'spam'], yticklabels=['doesn\\'t\\nreflect', 'reflects', 'spam'], annot_kws={\"fontsize\":10}, cmap='Blues')\n",
    "    ax.xaxis.set_tick_params(labelsize = 9)\n",
    "    ax.yaxis.set_tick_params(labelsize = 9)\n",
    "    plt.xlabel(x_name, fontsize = 10)\n",
    "    plt.ylabel(y_name, fontsize = 10)\n",
    "    name=x_name+'_'+y_name+'.png'\n",
    "    plt.savefig(fold+name, bbox_inches='tight')\n",
    "    return plt.show()"
   ]
  },
  {
   "cell_type": "code",
   "execution_count": 181,
   "id": "cf6e4f4d",
   "metadata": {},
   "outputs": [
    {
     "data": {
      "image/png": "[encoded data removed]",
      "text/plain": [
       "<Figure size 300x300 with 1 Axes>"
      ]
     },
     "metadata": {},
     "output_type": "display_data"
    }
   ],
   "source": [
    "PlotHeatMap(df_all_merged.result.to_list(), df_all_merged.label_toloker2.to_list(), 'Crowd-workers', 'Experts')"
   ]
  },
  {
   "cell_type": "code",
   "execution_count": 182,
   "id": "3686ef15",
   "metadata": {},
   "outputs": [
    {
     "data": {
      "image/png": "[encoded data removed]",
      "text/plain": [
       "<Figure size 300x300 with 1 Axes>"
      ]
     },
     "metadata": {},
     "output_type": "display_data"
    }
   ],
   "source": [
    "PlotHeatMap(df_all_merged.result.to_list(), df_all_merged.gpt_result2.to_list(), 'ChatGPT', 'Experts')"
   ]
  },
  {
   "cell_type": "code",
   "execution_count": 183,
   "id": "7754d9f9",
   "metadata": {},
   "outputs": [
    {
     "data": {
      "image/png": "[encoded data removed]",
      "text/plain": [
       "<Figure size 300x300 with 1 Axes>"
      ]
     },
     "metadata": {},
     "output_type": "display_data"
    }
   ],
   "source": [
    "PlotHeatMap(df_all_merged.label_toloker2.to_list(), df_all_merged.gpt_result2.to_list(), 'ChatGPT', 'Crowd-workers')  "
   ]
  },
  {
   "cell_type": "code",
   "execution_count": null,
   "id": "0fe3e4a1",
   "metadata": {},
   "outputs": [],
   "source": [
    "# df_ex_gpt=df_all_merged.loc[df_all_merged.result==df_all_merged.gpt_result2]\n",
    "# PlotHeatMap(df_ex_gpt.result.to_list(), df_ex_gpt.label_toloker2.to_list(), 'Crowd-workers', 'Experts & ChatGPT')"
   ]
  },
  {
   "cell_type": "markdown",
   "id": "6e2cc719",
   "metadata": {},
   "source": [
    "# Construct the final label - combine results of crowd-workers and ChatGPT"
   ]
  },
  {
   "cell_type": "code",
   "execution_count": 185,
   "id": "b07c1496",
   "metadata": {},
   "outputs": [],
   "source": [
    "df_all_merged=CombineResults(df_all_merged, 'label_toloker2', 'percentage_y', 'gpt_result2')"
   ]
  },
  {
   "cell_type": "code",
   "execution_count": 186,
   "id": "10636dcc",
   "metadata": {},
   "outputs": [
    {
     "name": "stdout",
     "output_type": "stream",
     "text": [
      "Frequency distribution for final classes\n"
     ]
    },
    {
     "data": {
      "text/plain": [
       "0    449\n",
       "1    272\n",
       "3     83\n",
       "Name: final_label, dtype: int64"
      ]
     },
     "execution_count": 186,
     "metadata": {},
     "output_type": "execute_result"
    }
   ],
   "source": [
    "print (\"Frequency distribution for final classes\")\n",
    "df_all_merged.final_label.value_counts()\n"
   ]
  },
  {
   "cell_type": "code",
   "execution_count": 187,
   "id": "91ceffd7",
   "metadata": {},
   "outputs": [
    {
     "name": "stdout",
     "output_type": "stream",
     "text": [
      "Final annotation, Accuracy: 0.7574626865671642\n"
     ]
    }
   ],
   "source": [
    "acc_gpt=accuracy_score(df_all_merged.result.to_list(), df_all_merged.final_label.to_list())\n",
    "print (\"Final annotation, Accuracy:\", acc_gpt)"
   ]
  },
  {
   "cell_type": "code",
   "execution_count": 188,
   "id": "88cb41ae",
   "metadata": {},
   "outputs": [
    {
     "name": "stdout",
     "output_type": "stream",
     "text": [
      "Confusion matrix for experts and Final annotation\n"
     ]
    },
    {
     "data": {
      "image/png": "[encoded data removed]",
      "text/plain": [
       "<Figure size 300x300 with 1 Axes>"
      ]
     },
     "metadata": {},
     "output_type": "display_data"
    }
   ],
   "source": [
    "print (\"Confusion matrix for experts and Final annotation\")\n",
    "PlotHeatMap(df_all_merged.result.to_list(), df_all_merged.final_label.to_list(), 'Combined ChatGPT+crowd-workers', 'Experts')"
   ]
  },
  {
   "cell_type": "markdown",
   "id": "d5f68212",
   "metadata": {},
   "source": [
    "# Load annotated train data. Annotated by crowd-workers and ChatGPT"
   ]
  },
  {
   "cell_type": "code",
   "execution_count": 189,
   "id": "53ddb812",
   "metadata": {},
   "outputs": [
    {
     "data": {
      "text/html": [
       "<div>\n",
       "<style scoped>\n",
       "    .dataframe tbody tr th:only-of-type {\n",
       "        vertical-align: middle;\n",
       "    }\n",
       "\n",
       "    .dataframe tbody tr th {\n",
       "        vertical-align: top;\n",
       "    }\n",
       "\n",
       "    .dataframe thead th {\n",
       "        text-align: right;\n",
       "    }\n",
       "</style>\n",
       "<table border=\"1\" class=\"dataframe\">\n",
       "  <thead>\n",
       "    <tr style=\"text-align: right;\">\n",
       "      <th></th>\n",
       "      <th>text</th>\n",
       "      <th>label_c1</th>\n",
       "      <th>label_c2</th>\n",
       "      <th>label_c3</th>\n",
       "      <th>label_crowd</th>\n",
       "      <th>percentage</th>\n",
       "      <th>label1</th>\n",
       "      <th>label2</th>\n",
       "      <th>label3</th>\n",
       "      <th>gpt_result</th>\n",
       "      <th>final_label</th>\n",
       "    </tr>\n",
       "  </thead>\n",
       "  <tbody>\n",
       "    <tr>\n",
       "      <th>0</th>\n",
       "      <td>Думаете, что умеете пользоваться фотошопом?...</td>\n",
       "      <td>3</td>\n",
       "      <td>0</td>\n",
       "      <td>0</td>\n",
       "      <td>0.0</td>\n",
       "      <td>67</td>\n",
       "      <td>2</td>\n",
       "      <td>2</td>\n",
       "      <td>2</td>\n",
       "      <td>2.0</td>\n",
       "      <td>0.0</td>\n",
       "    </tr>\n",
       "    <tr>\n",
       "      <th>1</th>\n",
       "      <td>...Самое страшное - это когда ты стоишь под х...</td>\n",
       "      <td>1</td>\n",
       "      <td>1</td>\n",
       "      <td>1</td>\n",
       "      <td>1.0</td>\n",
       "      <td>100</td>\n",
       "      <td>1</td>\n",
       "      <td>1</td>\n",
       "      <td>1</td>\n",
       "      <td>1.0</td>\n",
       "      <td>1.0</td>\n",
       "    </tr>\n",
       "    <tr>\n",
       "      <th>2</th>\n",
       "      <td>Друзья мои! Поддержим дочку моей подруги! Про...</td>\n",
       "      <td>0</td>\n",
       "      <td>1</td>\n",
       "      <td>0</td>\n",
       "      <td>0.0</td>\n",
       "      <td>67</td>\n",
       "      <td>1</td>\n",
       "      <td>1</td>\n",
       "      <td>1</td>\n",
       "      <td>1.0</td>\n",
       "      <td>1.0</td>\n",
       "    </tr>\n",
       "    <tr>\n",
       "      <th>3</th>\n",
       "      <td>Мой новый дневник, читаем, коментим :)</td>\n",
       "      <td>0</td>\n",
       "      <td>0</td>\n",
       "      <td>0</td>\n",
       "      <td>0.0</td>\n",
       "      <td>100</td>\n",
       "      <td>0</td>\n",
       "      <td>0</td>\n",
       "      <td>0</td>\n",
       "      <td>0.0</td>\n",
       "      <td>0.0</td>\n",
       "    </tr>\n",
       "    <tr>\n",
       "      <th>4</th>\n",
       "      <td>РУССКИЙ  КРЫМ - МИФ для быдла! (о чем молчат ...</td>\n",
       "      <td>0</td>\n",
       "      <td>0</td>\n",
       "      <td>3</td>\n",
       "      <td>0.0</td>\n",
       "      <td>67</td>\n",
       "      <td>2</td>\n",
       "      <td>2</td>\n",
       "      <td>2</td>\n",
       "      <td>2.0</td>\n",
       "      <td>0.0</td>\n",
       "    </tr>\n",
       "  </tbody>\n",
       "</table>\n",
       "</div>"
      ],
      "text/plain": [
       "                                                text  label_c1  label_c2  \\\n",
       "0     Думаете, что умеете пользоваться фотошопом?...         3         0   \n",
       "1   ...Самое страшное - это когда ты стоишь под х...         1         1   \n",
       "2   Друзья мои! Поддержим дочку моей подруги! Про...         0         1   \n",
       "3             Мой новый дневник, читаем, коментим :)         0         0   \n",
       "4   РУССКИЙ  КРЫМ - МИФ для быдла! (о чем молчат ...         0         0   \n",
       "\n",
       "   label_c3  label_crowd  percentage  label1  label2  label3 gpt_result  \\\n",
       "0         0          0.0          67       2       2       2        2.0   \n",
       "1         1          1.0         100       1       1       1        1.0   \n",
       "2         0          0.0          67       1       1       1        1.0   \n",
       "3         0          0.0         100       0       0       0        0.0   \n",
       "4         3          0.0          67       2       2       2        2.0   \n",
       "\n",
       "   final_label  \n",
       "0          0.0  \n",
       "1          1.0  \n",
       "2          1.0  \n",
       "3          0.0  \n",
       "4          0.0  "
      ]
     },
     "execution_count": 189,
     "metadata": {},
     "output_type": "execute_result"
    }
   ],
   "source": [
    "folder_='../data/'\n",
    "file_train='train5035_crowd_gpt.csv'\n",
    "df=pd.read_csv(folder_+file_train, sep=\"|\", encoding ='utf-8', index_col=False)\n",
    "df.drop('Unnamed: 0', axis=1, inplace=True)\n",
    "df.head()"
   ]
  },
  {
   "cell_type": "code",
   "execution_count": 1,
   "id": "9395f717",
   "metadata": {},
   "outputs": [],
   "source": [
    "# Columns description:\n",
    "# label_c1, label_c2, label_c3, label_crowd - classes for crowd-workers annotation, percentage - percentage of identical classes\n",
    "# label1, label2, label3, gpt_result - classes for ChatGPT annotation\n",
    "# final_label -  final class based on combining crowd and ChatGPT annotation"
   ]
  },
  {
   "cell_type": "code",
   "execution_count": 190,
   "id": "e7418cb9",
   "metadata": {},
   "outputs": [
    {
     "name": "stdout",
     "output_type": "stream",
     "text": [
      "frequency distribution for crowd-workers\n"
     ]
    },
    {
     "data": {
      "text/plain": [
       "0.0    2762\n",
       "1.0    1539\n",
       "3.0     539\n",
       "NaN     174\n",
       "2.0      21\n",
       "Name: label_crowd, dtype: int64"
      ]
     },
     "execution_count": 190,
     "metadata": {},
     "output_type": "execute_result"
    }
   ],
   "source": [
    "print (\"frequency distribution for crowd-workers\")\n",
    "df.label_crowd.value_counts(dropna=False)"
   ]
  },
  {
   "cell_type": "code",
   "execution_count": 191,
   "id": "8ebf57d9",
   "metadata": {},
   "outputs": [
    {
     "name": "stdout",
     "output_type": "stream",
     "text": [
      "frequency distribution for ChatGPT\n"
     ]
    },
    {
     "data": {
      "text/plain": [
       "1.0    2254\n",
       "0.0    1721\n",
       "2.0     967\n",
       "3.0      92\n",
       "NaN       1\n",
       "Name: gpt_result, dtype: int64"
      ]
     },
     "execution_count": 191,
     "metadata": {},
     "output_type": "execute_result"
    }
   ],
   "source": [
    "print (\"frequency distribution for ChatGPT\")\n",
    "df.gpt_result=df.gpt_result.astype('float', errors='ignore').astype('int', errors='ignore')\n",
    "df.gpt_result.value_counts(dropna=False)"
   ]
  },
  {
   "cell_type": "code",
   "execution_count": 192,
   "id": "254ffdb8",
   "metadata": {},
   "outputs": [],
   "source": [
    "# to replace Nan with 0:\n",
    "df['label_crowd'] = df['label_crowd'].fillna(0)"
   ]
  },
  {
   "cell_type": "code",
   "execution_count": 193,
   "id": "449f9d5b",
   "metadata": {},
   "outputs": [],
   "source": [
    "# if Nan - replace with 0\n",
    "df['gpt_result'] = df['gpt_result'].fillna(0)"
   ]
  },
  {
   "cell_type": "code",
   "execution_count": 195,
   "id": "5163cde0",
   "metadata": {},
   "outputs": [
    {
     "name": "stdout",
     "output_type": "stream",
     "text": [
      "ChatGPT, alfa for 4 classes 0.9626015053442392\n",
      "ChatGPT, alfa for 3 classes 0.9747143224124237\n"
     ]
    }
   ],
   "source": [
    "alfa=CalculateSimpledorffAlpha(df, ['label1', 'label2', 'label3'])\n",
    "print (\"ChatGPT, alfa for 4 classes\", alfa)\n",
    "\n",
    "df_g=df.replace({'label1': {2: 0}, 'label2': {2: 0}, 'label3': {2: 0}})\n",
    "alfa=CalculateSimpledorffAlpha(df_g, ['label1', 'label2', 'label3'])\n",
    "print (\"ChatGPT, alfa for 3 classes\", alfa)"
   ]
  },
  {
   "cell_type": "code",
   "execution_count": 196,
   "id": "62c1e766",
   "metadata": {},
   "outputs": [
    {
     "name": "stdout",
     "output_type": "stream",
     "text": [
      "Crowd-workers, alfa for 4 classes 0.3885869094841752\n",
      "Crowd-workers, alfa for 3 classes 0.3968916500075802\n"
     ]
    }
   ],
   "source": [
    "alfa=CalculateSimpledorffAlpha(df, ['label_c1', 'label_c2', 'label_c3'])\n",
    "print (\"Crowd-workers, alfa for 4 classes\", alfa)\n",
    "\n",
    "df_g=df.replace({'label_c1': {2: 0}, 'label_c2': {2: 0}, 'label_c3': {2: 0}})\n",
    "alfa=CalculateSimpledorffAlpha(df_g, ['label_c1', 'label_c2', 'label_c3'])\n",
    "print (\"Crowd-workers, alfa for 3 classes\", alfa)\n"
   ]
  },
  {
   "cell_type": "code",
   "execution_count": 197,
   "id": "3f3d073e",
   "metadata": {},
   "outputs": [],
   "source": [
    "# combine \"not clear\" with \"doesn't reflect\"\n",
    "df['gpt_result2']=df['gpt_result'].replace(2.0, 0.0)\n",
    "df['label_crowd2']=df['label_crowd'].replace(2.0, 0.0)"
   ]
  },
  {
   "cell_type": "code",
   "execution_count": 198,
   "id": "e8fbc641",
   "metadata": {},
   "outputs": [
    {
     "name": "stdout",
     "output_type": "stream",
     "text": [
      "frequency distribution for final classes\n"
     ]
    },
    {
     "data": {
      "text/plain": [
       "0    2741\n",
       "1    1734\n",
       "3     560\n",
       "Name: final_label, dtype: int64"
      ]
     },
     "execution_count": 198,
     "metadata": {},
     "output_type": "execute_result"
    }
   ],
   "source": [
    "# Calculate final classes:\n",
    "df=CombineResults(df, 'label_crowd2', 'percentage', 'gpt_result2')\n",
    "print (\"frequency distribution for final classes\")\n",
    "df.final_label.value_counts()"
   ]
  }
 ],
 "metadata": {
  "kernelspec": {
   "display_name": "Python 3 (ipykernel)",
   "language": "python",
   "name": "python3"
  },
  "language_info": {
   "codemirror_mode": {
    "name": "ipython",
    "version": 3
   },
   "file_extension": ".py",
   "mimetype": "text/x-python",
   "name": "python",
   "nbconvert_exporter": "python",
   "pygments_lexer": "ipython3",
   "version": "3.8.13"
  }
 },
 "nbformat": 4,
 "nbformat_minor": 5
}
