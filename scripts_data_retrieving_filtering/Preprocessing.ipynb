{
 "cells": [
  {
   "cell_type": "markdown",
   "metadata": {},
   "source": [
    "Load raw dataset"
   ]
  },
  {
   "cell_type": "code",
   "execution_count": 1,
   "metadata": {},
   "outputs": [
    {
     "name": "stdout",
     "output_type": "stream",
     "text": [
      "657041\n"
     ]
    },
    {
     "name": "stderr",
     "output_type": "stream",
     "text": [
      "/tmp/ipykernel_64522/2174379636.py:3: DtypeWarning: Columns (7,8,9) have mixed types. Specify dtype option on import or set low_memory=False.\n",
      "  df=pd.read_csv(folder+'raw_data.csv', sep=\"|\", encoding ='utf-8', index_col='Unnamed: 0')\n"
     ]
    },
    {
     "data": {
      "text/html": [
       "<div>\n",
       "<style scoped>\n",
       "    .dataframe tbody tr th:only-of-type {\n",
       "        vertical-align: middle;\n",
       "    }\n",
       "\n",
       "    .dataframe tbody tr th {\n",
       "        vertical-align: top;\n",
       "    }\n",
       "\n",
       "    .dataframe thead th {\n",
       "        text-align: right;\n",
       "    }\n",
       "</style>\n",
       "<table border=\"1\" class=\"dataframe\">\n",
       "  <thead>\n",
       "    <tr style=\"text-align: right;\">\n",
       "      <th></th>\n",
       "      <th>date</th>\n",
       "      <th>text</th>\n",
       "      <th>link_title</th>\n",
       "      <th>link_description</th>\n",
       "      <th>history_text</th>\n",
       "      <th>views</th>\n",
       "      <th>likes</th>\n",
       "      <th>comments</th>\n",
       "      <th>reposts</th>\n",
       "    </tr>\n",
       "  </thead>\n",
       "  <tbody>\n",
       "    <tr>\n",
       "      <th>0</th>\n",
       "      <td>2014-11-20</td>\n",
       "      <td>Бузык барин булдирген</td>\n",
       "      <td>NaN</td>\n",
       "      <td>NaN</td>\n",
       "      <td>NaN</td>\n",
       "      <td>NaN</td>\n",
       "      <td>2</td>\n",
       "      <td>0</td>\n",
       "      <td>0</td>\n",
       "    </tr>\n",
       "    <tr>\n",
       "      <th>1</th>\n",
       "      <td>2014-11-03</td>\n",
       "      <td>Жандарым</td>\n",
       "      <td>NaN</td>\n",
       "      <td>NaN</td>\n",
       "      <td>NaN</td>\n",
       "      <td>NaN</td>\n",
       "      <td>0</td>\n",
       "      <td>0</td>\n",
       "      <td>0</td>\n",
       "    </tr>\n",
       "    <tr>\n",
       "      <th>2</th>\n",
       "      <td>2014-10-28</td>\n",
       "      <td>Алтын куз</td>\n",
       "      <td>NaN</td>\n",
       "      <td>NaN</td>\n",
       "      <td>NaN</td>\n",
       "      <td>NaN</td>\n",
       "      <td>2</td>\n",
       "      <td>0</td>\n",
       "      <td>0</td>\n",
       "    </tr>\n",
       "    <tr>\n",
       "      <th>3</th>\n",
       "      <td>2014-07-15</td>\n",
       "      <td>Здравствуйте</td>\n",
       "      <td>NaN</td>\n",
       "      <td>NaN</td>\n",
       "      <td>NaN</td>\n",
       "      <td>NaN</td>\n",
       "      <td>1</td>\n",
       "      <td>0</td>\n",
       "      <td>0</td>\n",
       "    </tr>\n",
       "    <tr>\n",
       "      <th>4</th>\n",
       "      <td>2014-07-14</td>\n",
       "      <td>Биз бакиттымыз</td>\n",
       "      <td>NaN</td>\n",
       "      <td>NaN</td>\n",
       "      <td>NaN</td>\n",
       "      <td>NaN</td>\n",
       "      <td>3</td>\n",
       "      <td>0</td>\n",
       "      <td>0</td>\n",
       "    </tr>\n",
       "  </tbody>\n",
       "</table>\n",
       "</div>"
      ],
      "text/plain": [
       "         date                   text link_title link_description history_text  \\\n",
       "0  2014-11-20  Бузык барин булдирген        NaN              NaN          NaN   \n",
       "1  2014-11-03               Жандарым        NaN              NaN          NaN   \n",
       "2  2014-10-28              Алтын куз        NaN              NaN          NaN   \n",
       "3  2014-07-15           Здравствуйте        NaN              NaN          NaN   \n",
       "4  2014-07-14         Биз бакиттымыз        NaN              NaN          NaN   \n",
       "\n",
       "  views likes comments reposts  \n",
       "0   NaN     2        0       0  \n",
       "1   NaN     0        0       0  \n",
       "2   NaN     2        0       0  \n",
       "3   NaN     1        0       0  \n",
       "4   NaN     3        0       0  "
      ]
     },
     "execution_count": 1,
     "metadata": {},
     "output_type": "execute_result"
    }
   ],
   "source": [
    "import pandas as pd\n",
    "folder='../data/'\n",
    "df=pd.read_csv(folder+'raw_data.csv', sep=\"|\", encoding ='utf-8', index_col='Unnamed: 0')\n",
    "print (df.shape[0])\n",
    "df.head()"
   ]
  },
  {
   "cell_type": "code",
   "execution_count": 2,
   "metadata": {},
   "outputs": [
    {
     "data": {
      "text/plain": [
       "554730"
      ]
     },
     "execution_count": 2,
     "metadata": {},
     "output_type": "execute_result"
    }
   ],
   "source": [
    "#drop duplicates:\n",
    "df.drop_duplicates().shape[0]"
   ]
  },
  {
   "cell_type": "code",
   "execution_count": 3,
   "metadata": {},
   "outputs": [
    {
     "name": "stdout",
     "output_type": "stream",
     "text": [
      "number of text posts  188246\n",
      "number of link-posts  45650\n",
      "number of link posts with descriptions  38992\n",
      "number of reposts  481509\n"
     ]
    }
   ],
   "source": [
    "print ('number of text posts ', df[~df['text'].isnull()].shape[0])\n",
    "print ('number of link-posts ', df[~df['link_title'].isnull()].shape[0])\n",
    "print ('number of link posts with descriptions ', df[~df['link_description'].isnull()].shape[0])\n",
    "print ('number of reposts ', df[~df['history_text'].isnull()].shape[0])"
   ]
  },
  {
   "cell_type": "code",
   "execution_count": 4,
   "metadata": {},
   "outputs": [
    {
     "name": "stdout",
     "output_type": "stream",
     "text": [
      "number of reposts, without 'Запись удалена:  355762\n"
     ]
    }
   ],
   "source": [
    "import numpy as np\n",
    "df[\"history_text\"] = df[\"history_text\"].replace(np.nan, '')\n",
    "df_reposts=df.loc[(df['history_text']!='') & (df['history_text']!='Запись удалена ')]\n",
    "print ('number of reposts, without \\'Запись удалена'': ', df_reposts['history_text'].shape[0])"
   ]
  },
  {
   "cell_type": "code",
   "execution_count": 7,
   "metadata": {},
   "outputs": [
    {
     "name": "stdout",
     "output_type": "stream",
     "text": [
      "number of text posts:  188246\n"
     ]
    }
   ],
   "source": [
    "# We work only with text posts:\n",
    "df_text=df[~df['text'].isnull()]\n",
    "print (\"number of text posts: \", df_text.shape[0])"
   ]
  },
  {
   "cell_type": "code",
   "execution_count": 9,
   "metadata": {},
   "outputs": [
    {
     "name": "stdout",
     "output_type": "stream",
     "text": [
      "188246\n"
     ]
    },
    {
     "data": {
      "text/html": [
       "<div>\n",
       "<style scoped>\n",
       "    .dataframe tbody tr th:only-of-type {\n",
       "        vertical-align: middle;\n",
       "    }\n",
       "\n",
       "    .dataframe tbody tr th {\n",
       "        vertical-align: top;\n",
       "    }\n",
       "\n",
       "    .dataframe thead th {\n",
       "        text-align: right;\n",
       "    }\n",
       "</style>\n",
       "<table border=\"1\" class=\"dataframe\">\n",
       "  <thead>\n",
       "    <tr style=\"text-align: right;\">\n",
       "      <th></th>\n",
       "      <th>date</th>\n",
       "      <th>text</th>\n",
       "      <th>link_title</th>\n",
       "      <th>link_description</th>\n",
       "    </tr>\n",
       "  </thead>\n",
       "  <tbody>\n",
       "    <tr>\n",
       "      <th>0</th>\n",
       "      <td>2014-11-20</td>\n",
       "      <td>Бузык барин булдирген</td>\n",
       "      <td>NaN</td>\n",
       "      <td>NaN</td>\n",
       "    </tr>\n",
       "    <tr>\n",
       "      <th>1</th>\n",
       "      <td>2014-11-03</td>\n",
       "      <td>Жандарым</td>\n",
       "      <td>NaN</td>\n",
       "      <td>NaN</td>\n",
       "    </tr>\n",
       "    <tr>\n",
       "      <th>2</th>\n",
       "      <td>2014-10-28</td>\n",
       "      <td>Алтын куз</td>\n",
       "      <td>NaN</td>\n",
       "      <td>NaN</td>\n",
       "    </tr>\n",
       "    <tr>\n",
       "      <th>3</th>\n",
       "      <td>2014-07-15</td>\n",
       "      <td>Здравствуйте</td>\n",
       "      <td>NaN</td>\n",
       "      <td>NaN</td>\n",
       "    </tr>\n",
       "    <tr>\n",
       "      <th>4</th>\n",
       "      <td>2014-07-14</td>\n",
       "      <td>Биз бакиттымыз</td>\n",
       "      <td>NaN</td>\n",
       "      <td>NaN</td>\n",
       "    </tr>\n",
       "  </tbody>\n",
       "</table>\n",
       "</div>"
      ],
      "text/plain": [
       "         date                   text link_title link_description\n",
       "0  2014-11-20  Бузык барин булдирген        NaN              NaN\n",
       "1  2014-11-03               Жандарым        NaN              NaN\n",
       "2  2014-10-28              Алтын куз        NaN              NaN\n",
       "3  2014-07-15           Здравствуйте        NaN              NaN\n",
       "4  2014-07-14         Биз бакиттымыз        NaN              NaN"
      ]
     },
     "execution_count": 9,
     "metadata": {},
     "output_type": "execute_result"
    }
   ],
   "source": [
    "# Load only text data:\n",
    "import pandas as pd\n",
    "folder='../data/'\n",
    "df=pd.read_csv(folder+'raw_text_data.csv', sep=\"|\", encoding ='utf-8', index_col='Unnamed: 0')\n",
    "print (df.shape[0])\n",
    "df.head()"
   ]
  },
  {
   "cell_type": "markdown",
   "metadata": {},
   "source": [
    "# Preprocessing"
   ]
  },
  {
   "cell_type": "code",
   "execution_count": 10,
   "metadata": {},
   "outputs": [
    {
     "name": "stderr",
     "output_type": "stream",
     "text": [
      "[nltk_data] Downloading package stopwords to\n",
      "[nltk_data]     /home/mmilkov2/nltk_data...\n",
      "[nltk_data]   Package stopwords is already up-to-date!\n"
     ]
    }
   ],
   "source": [
    "# Лемматизация\n",
    "import re\n",
    "import pymorphy2\n",
    "morph = pymorphy2.MorphAnalyzer()\n",
    "from nltk.corpus import stopwords\n",
    "from nltk.tokenize import RegexpTokenizer\n",
    "import nltk\n",
    "from collections import Counter\n",
    "nltk.download('stopwords')\n",
    "\n",
    "# Стоп слова пока не рассматриваем\n",
    "russian_stopwords = stopwords.words(\"russian\")   \n",
    "rsw = [word for word in russian_stopwords if word !=\"не\"]\n",
    "# print (rsw)\n",
    "\n",
    "tokenizer = RegexpTokenizer('[А-Я|Ё|а-я|ё|#]+')\n",
    "morph = pymorphy2.MorphAnalyzer()\n",
    "\n",
    "def preprocessing(plain_text):\n",
    "    intermediate = tokenizer.tokenize(plain_text.lower())\n",
    "    intermediate = [morph.parse(i)[0].normal_form for i in intermediate if (len(i)>1)&('#' not in i)]\n",
    "    words_lemmatized_list = [i for i in intermediate if i not in rsw]\n",
    "    return words_lemmatized_list\n",
    "\n",
    "def form_bigrams_list(preprocessed_text):\n",
    "    bigrams_list=[]\n",
    "    biword =  [b for b in nltk.bigrams(preprocessed_text)]\n",
    "    counts_bi = Counter(biword)\n",
    "    for char in counts_bi.keys():\n",
    "        bigrams_list.append('_'.join(char))\n",
    "    return bigrams_list\n",
    "    \n",
    "    \n",
    "def get_counted_unigrams(preprocessed_text):\n",
    "    counts_uni = Counter(preprocessed_text)  # счетчик частот униграмм  \n",
    "    unigrams_count_line='' # unigrams in line with counts \n",
    "    for char in counts_uni.keys():\n",
    "        unigrams_count_line=unigrams_count_line+char+':'+str(counts_uni[char])+' '\n",
    "    return unigrams_count_line\n",
    "\n",
    "def get_counted_bigrams(preprocessed_text):\n",
    "    bigrams_count_line='' # bigrams in line with counts\n",
    "    biword =  [b for b in nltk.bigrams(preprocessed_text)]\n",
    "    counts_bi = Counter(biword)  # счетчик частот биграмм\n",
    "    bigrams_count_line='' # bigrams in line with counts\n",
    "    for char in counts_bi.keys():\n",
    "        char_='_'.join(char)\n",
    "        bigrams_count_line=bigrams_count_line+ char_ +':' +str(counts_bi[char]) +' ' \n",
    "    return bigrams_count_line"
   ]
  },
  {
   "cell_type": "code",
   "execution_count": 232,
   "metadata": {},
   "outputs": [],
   "source": [
    "# create columns with unigrams and bigrams\n",
    "text_list=[]\n",
    "for index, rows in df.iterrows():\n",
    "    text_list.append(rows.text)\n",
    "    \n",
    "preprocessed_list=[]\n",
    "bigrams_list=[]\n",
    "for text in text_list:\n",
    "    preprocessed_text=preprocessing(text)\n",
    "    biword=form_bigrams_list(preprocessed_text)\n",
    "    \n",
    "    preprocessed_list.append(preprocessed_text)\n",
    "    bigrams_list.append(biword)\n",
    "\n",
    "df['unigrams']=preprocessed_list\n",
    "df['bigrams']=bigrams_list    "
   ]
  },
  {
   "cell_type": "code",
   "execution_count": 11,
   "metadata": {},
   "outputs": [],
   "source": [
    "# work only with posts with at least one bigram\n",
    "df_with_bigrams=df[df.bigrams.apply(lambda x: len(x) > 0)]"
   ]
  }
 ],
 "metadata": {
  "kernelspec": {
   "display_name": "Python 3 (ipykernel)",
   "language": "python",
   "name": "python3"
  },
  "language_info": {
   "codemirror_mode": {
    "name": "ipython",
    "version": 3
   },
   "file_extension": ".py",
   "mimetype": "text/x-python",
   "name": "python",
   "nbconvert_exporter": "python",
   "pygments_lexer": "ipython3",
   "version": "3.8.13"
  }
 },
 "nbformat": 4,
 "nbformat_minor": 4
}
